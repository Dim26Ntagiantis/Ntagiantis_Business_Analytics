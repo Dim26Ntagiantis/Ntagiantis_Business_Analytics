{
 "cells": [
  {
   "cell_type": "markdown",
   "metadata": {},
   "source": [
    "# Introduction\n",
    "\n",
    "Some words about the dataset:\n",
    "\n",
    "The dataset is comprised of tab-separated files with phrases from the Rotten Tomatoes dataset. The train/test split has been preserved for the purposes of benchmarking, but the sentences have been shuffled from their original order. Each Sentence has been parsed into many phrases by the Stanford parser and each phrase has a PhraseId. Similarly, each sentence has a SentenceId. Phrases that are repeated (such as short/common words) are only included once in the data through a data-cleaning procedure that is definied at a later stage.\n",
    "\n",
    "The dataset contains two main sub-datasets:\n",
    "\n",
    "*train.tsv contains the phrases and their associated sentiment labels. We have additionally provided a SentenceId so that you can track which phrases belong to a single sentence.\n",
    "\n",
    "*test.tsv contains just phrases. Our goal for this assignment is to assign a sentiment label to each phrase.\n",
    "\n",
    "The sentiment labels are:\n",
    "\n",
    "0 - negative\n",
    "\n",
    "1 - somewhat negative\n",
    "\n",
    "2 - neutral\n",
    "\n",
    "3 - somewhat positive\n",
    "\n",
    "4 - positive"
   ]
  },
  {
   "cell_type": "code",
   "execution_count": 1,
   "metadata": {},
   "outputs": [
    {
     "data": {
      "text/plain": [
       "'C:\\\\Users\\\\jimis'"
      ]
     },
     "execution_count": 1,
     "metadata": {},
     "output_type": "execute_result"
    }
   ],
   "source": [
    "import os\n",
    "os.getcwd()"
   ]
  },
  {
   "cell_type": "code",
   "execution_count": 2,
   "metadata": {},
   "outputs": [],
   "source": [
    "# Loading trivial and useful libraries to start our analysis\n",
    "\n",
    "import pandas as pd # package for high-performance, easy-to-use data structures and data analysis\n",
    "import numpy as np # fundamental package for scientific computing with Python\n",
    "import re\n",
    "import string\n",
    "import nltk # The Natural Language Toolkit (NTLK), is a suitr of libraries and programms for symbolic and statistical natural processing\n",
    "# for Emglish written in Python .\n",
    "from nltk.tokenize import word_tokenize\n",
    "from nltk.stem import WordNetLemmatizer\n",
    "lemmatizer = WordNetLemmatizer()\n",
    "from bs4 import BeautifulSoupan\n",
    "from tqdm import tqdm #TQDM is a progress bar library with good support for nested loops and Jupiter/Python notebooks.\n",
    "import warnings\n",
    "warnings.filterwarnings(\"ignore\", category=UserWarning, module='bs4')"
   ]
  },
  {
   "cell_type": "markdown",
   "metadata": {},
   "source": [
    "# Some words about Keras\n",
    "\n",
    "Keras is a deep learning framework that actually under the hood uses other deep learning frameworks in order to expose a simple to use and work with high-level API. In our case, Keras will use the Tensorflow – Google’s deep learning library.\n",
    "\n",
    "The integration with the various backends is seamless and comes in two flavors: sequential or functional. Just to ways of thinking about building models. \n",
    "The resulting models are perfectly equivalent. We’re going to use the sequential one, to develop various types of models for Natural Language Processing. \n",
    "\n",
    "*(Dense) Deep Neural Network – The NN classic model – uses the BOW model\n",
    "\n",
    "*Convolutional Network – build a network using 1D Conv Layers – uses word vectors\n",
    "\n",
    "*Recurrent Networks – LSTM Network – Long Short-Term Memory – uses word vectors\n",
    "\n",
    "*Τransfer learning for NLP – uses word vectors"
   ]
  },
  {
   "cell_type": "code",
   "execution_count": 3,
   "metadata": {},
   "outputs": [
    {
     "name": "stderr",
     "output_type": "stream",
     "text": [
      "Using TensorFlow backend.\n"
     ]
    }
   ],
   "source": [
    "# Loading Keras and associated packages.\n",
    "\n",
    "from keras.utils import to_categorical\n",
    "import random\n",
    "from tensorflow import set_random_seed\n",
    "from sklearn.model_selection import train_test_split\n",
    "from keras.preprocessing import sequence\n",
    "from keras.preprocessing.text import Tokenizer\n",
    "from keras.layers import Dense,Dropout,Embedding,LSTM\n",
    "from keras.callbacks import EarlyStopping\n",
    "from keras.losses import categorical_crossentropy\n",
    "from keras.optimizers import Adam\n",
    "from keras.models import Sequential\n",
    "\n",
    "# set random seed for the session and also for tensorflow that runs in background for keras\n",
    "set_random_seed(123)\n",
    "random.seed(123)"
   ]
  },
  {
   "cell_type": "code",
   "execution_count": 4,
   "metadata": {},
   "outputs": [],
   "source": [
    "# Load Train and Test datasets.\n",
    "\n",
    "train= pd.read_csv(\"train.tsv\", sep=\"\\t\")\n",
    "test = pd.read_csv(\"test.tsv\", sep=\"\\t\")"
   ]
  },
  {
   "cell_type": "code",
   "execution_count": 5,
   "metadata": {},
   "outputs": [
    {
     "data": {
      "text/html": [
       "<div>\n",
       "<style scoped>\n",
       "    .dataframe tbody tr th:only-of-type {\n",
       "        vertical-align: middle;\n",
       "    }\n",
       "\n",
       "    .dataframe tbody tr th {\n",
       "        vertical-align: top;\n",
       "    }\n",
       "\n",
       "    .dataframe thead th {\n",
       "        text-align: right;\n",
       "    }\n",
       "</style>\n",
       "<table border=\"1\" class=\"dataframe\">\n",
       "  <thead>\n",
       "    <tr style=\"text-align: right;\">\n",
       "      <th></th>\n",
       "      <th>PhraseId</th>\n",
       "      <th>SentenceId</th>\n",
       "      <th>Phrase</th>\n",
       "      <th>Sentiment</th>\n",
       "    </tr>\n",
       "  </thead>\n",
       "  <tbody>\n",
       "    <tr>\n",
       "      <th>0</th>\n",
       "      <td>1</td>\n",
       "      <td>1</td>\n",
       "      <td>A series of escapades demonstrating the adage ...</td>\n",
       "      <td>1</td>\n",
       "    </tr>\n",
       "    <tr>\n",
       "      <th>1</th>\n",
       "      <td>2</td>\n",
       "      <td>1</td>\n",
       "      <td>A series of escapades demonstrating the adage ...</td>\n",
       "      <td>2</td>\n",
       "    </tr>\n",
       "    <tr>\n",
       "      <th>2</th>\n",
       "      <td>3</td>\n",
       "      <td>1</td>\n",
       "      <td>A series</td>\n",
       "      <td>2</td>\n",
       "    </tr>\n",
       "    <tr>\n",
       "      <th>3</th>\n",
       "      <td>4</td>\n",
       "      <td>1</td>\n",
       "      <td>A</td>\n",
       "      <td>2</td>\n",
       "    </tr>\n",
       "    <tr>\n",
       "      <th>4</th>\n",
       "      <td>5</td>\n",
       "      <td>1</td>\n",
       "      <td>series</td>\n",
       "      <td>2</td>\n",
       "    </tr>\n",
       "  </tbody>\n",
       "</table>\n",
       "</div>"
      ],
      "text/plain": [
       "   PhraseId  SentenceId                                             Phrase  \\\n",
       "0         1           1  A series of escapades demonstrating the adage ...   \n",
       "1         2           1  A series of escapades demonstrating the adage ...   \n",
       "2         3           1                                           A series   \n",
       "3         4           1                                                  A   \n",
       "4         5           1                                             series   \n",
       "\n",
       "   Sentiment  \n",
       "0          1  \n",
       "1          2  \n",
       "2          2  \n",
       "3          2  \n",
       "4          2  "
      ]
     },
     "execution_count": 5,
     "metadata": {},
     "output_type": "execute_result"
    }
   ],
   "source": [
    "# Let's have a first look at the train data...\n",
    "\n",
    "train.head()"
   ]
  },
  {
   "cell_type": "code",
   "execution_count": 6,
   "metadata": {},
   "outputs": [
    {
     "data": {
      "text/plain": [
       "(156060, 4)"
      ]
     },
     "execution_count": 6,
     "metadata": {},
     "output_type": "execute_result"
    }
   ],
   "source": [
    "train.shape # train's dataset dimensions."
   ]
  },
  {
   "cell_type": "code",
   "execution_count": 7,
   "metadata": {},
   "outputs": [
    {
     "data": {
      "text/html": [
       "<div>\n",
       "<style scoped>\n",
       "    .dataframe tbody tr th:only-of-type {\n",
       "        vertical-align: middle;\n",
       "    }\n",
       "\n",
       "    .dataframe tbody tr th {\n",
       "        vertical-align: top;\n",
       "    }\n",
       "\n",
       "    .dataframe thead th {\n",
       "        text-align: right;\n",
       "    }\n",
       "</style>\n",
       "<table border=\"1\" class=\"dataframe\">\n",
       "  <thead>\n",
       "    <tr style=\"text-align: right;\">\n",
       "      <th></th>\n",
       "      <th>PhraseId</th>\n",
       "      <th>SentenceId</th>\n",
       "      <th>Phrase</th>\n",
       "    </tr>\n",
       "  </thead>\n",
       "  <tbody>\n",
       "    <tr>\n",
       "      <th>0</th>\n",
       "      <td>156061</td>\n",
       "      <td>8545</td>\n",
       "      <td>An intermittently pleasing but mostly routine ...</td>\n",
       "    </tr>\n",
       "    <tr>\n",
       "      <th>1</th>\n",
       "      <td>156062</td>\n",
       "      <td>8545</td>\n",
       "      <td>An intermittently pleasing but mostly routine ...</td>\n",
       "    </tr>\n",
       "    <tr>\n",
       "      <th>2</th>\n",
       "      <td>156063</td>\n",
       "      <td>8545</td>\n",
       "      <td>An</td>\n",
       "    </tr>\n",
       "    <tr>\n",
       "      <th>3</th>\n",
       "      <td>156064</td>\n",
       "      <td>8545</td>\n",
       "      <td>intermittently pleasing but mostly routine effort</td>\n",
       "    </tr>\n",
       "    <tr>\n",
       "      <th>4</th>\n",
       "      <td>156065</td>\n",
       "      <td>8545</td>\n",
       "      <td>intermittently pleasing but mostly routine</td>\n",
       "    </tr>\n",
       "  </tbody>\n",
       "</table>\n",
       "</div>"
      ],
      "text/plain": [
       "   PhraseId  SentenceId                                             Phrase\n",
       "0    156061        8545  An intermittently pleasing but mostly routine ...\n",
       "1    156062        8545  An intermittently pleasing but mostly routine ...\n",
       "2    156063        8545                                                 An\n",
       "3    156064        8545  intermittently pleasing but mostly routine effort\n",
       "4    156065        8545         intermittently pleasing but mostly routine"
      ]
     },
     "execution_count": 7,
     "metadata": {},
     "output_type": "execute_result"
    }
   ],
   "source": [
    "# Let's have a look at the test data...\n",
    "\n",
    "test.head() # same with train dataset without the sentiment column which we are going to predict."
   ]
  },
  {
   "cell_type": "code",
   "execution_count": 8,
   "metadata": {},
   "outputs": [
    {
     "data": {
      "text/plain": [
       "(66292, 3)"
      ]
     },
     "execution_count": 8,
     "metadata": {},
     "output_type": "execute_result"
    }
   ],
   "source": [
    "test.shape # test's dataset dimensions"
   ]
  },
  {
   "cell_type": "markdown",
   "metadata": {},
   "source": [
    "# Dataset's Cleaning Procedure\n",
    "\n",
    "The next step is to create a function for cleaning the reviews, tokenize and lemmatize them.\n",
    "This function will take each phrase iteratively and it will do the followings:\n",
    "1. remove html content\n",
    "2. remove non-alphabetic characters\n",
    "3. tokenize the sentences\n",
    "4. lemmatize each word to its lemma\n",
    "5. return the result in the list named reviews."
   ]
  },
  {
   "cell_type": "code",
   "execution_count": 9,
   "metadata": {},
   "outputs": [],
   "source": [
    "def clean_sentences(df):\n",
    "    reviews = []\n",
    "\n",
    "    for sent in tqdm(df['Phrase']):\n",
    "        \n",
    "        #remove html content\n",
    "        review_text = BeautifulSoup(sent).get_text()\n",
    "        \n",
    "        #remove non-alphabetic characters\n",
    "        review_text = re.sub(\"[^a-zA-Z]\",\" \", review_text)\n",
    "    \n",
    "        #tokenize the sentences\n",
    "        words = word_tokenize(review_text.lower())\n",
    "    \n",
    "        #lemmatize each word to its lemma\n",
    "        lemma_words = [lemmatizer.lemmatize(i) for i in words]\n",
    "    \n",
    "        reviews.append(lemma_words)\n",
    "\n",
    "    return(reviews)"
   ]
  },
  {
   "cell_type": "code",
   "execution_count": 10,
   "metadata": {},
   "outputs": [
    {
     "name": "stderr",
     "output_type": "stream",
     "text": [
      "100%|██████████| 156060/156060 [00:51<00:00, 3050.34it/s]\n",
      "100%|██████████| 66292/66292 [00:21<00:00, 3110.66it/s]\n"
     ]
    },
    {
     "name": "stdout",
     "output_type": "stream",
     "text": [
      "156060\n",
      "66292\n"
     ]
    }
   ],
   "source": [
    "# Cleaned reviews for both train and test set retrieved\n",
    "train_sentences = clean_sentences(train)\n",
    "test_sentences = clean_sentences(test)\n",
    "print(len(train_sentences))\n",
    "print(len(test_sentences))"
   ]
  },
  {
   "cell_type": "markdown",
   "metadata": {},
   "source": [
    "# Dataset's Pre-processing \n",
    "\n",
    "Before we start building our model, we have to perform some extra steps to transform our data in a form suitable for our RNN model.\n",
    "\n",
    "These steps are:\n",
    "\n",
    "1. Collect the dependent values and convert to one-hot encoded output using to_categorical\n",
    "\n",
    "2. Split into train and validation datasets\n",
    "\n",
    "3. Geting the no of unique words and max length of a review available in the list of cleaned reviews\n",
    "\n",
    "4. Tokenizing and converting to sequences\n",
    "\n",
    "5. Perform padding to equalize the lengths of all input reviews since LSTM networks needs all inputs to be same length\n",
    "\n",
    "6. Define early-stopping threshold to prevent overfitting"
   ]
  },
  {
   "cell_type": "code",
   "execution_count": 11,
   "metadata": {},
   "outputs": [],
   "source": [
    "# Collect the dependent values and convert to one-hot encoded output using to_categorical.\n",
    "\n",
    "target=train.Sentiment.values\n",
    "y_target=to_categorical(target)\n",
    "num_classes=y_target.shape[1]"
   ]
  },
  {
   "cell_type": "code",
   "execution_count": 12,
   "metadata": {},
   "outputs": [],
   "source": [
    "# Split into train and validation datasets.\n",
    "\n",
    "X_train,X_val,y_train,y_val=train_test_split(train_sentences,y_target,test_size=0.2,stratify=y_target)"
   ]
  },
  {
   "cell_type": "code",
   "execution_count": 13,
   "metadata": {},
   "outputs": [
    {
     "name": "stderr",
     "output_type": "stream",
     "text": [
      "100%|██████████| 124848/124848 [00:00<00:00, 822878.83it/s]\n"
     ]
    },
    {
     "name": "stdout",
     "output_type": "stream",
     "text": [
      "13739\n",
      "48\n"
     ]
    }
   ],
   "source": [
    "# Geting the no of unique words and max length of a review available in the list of cleaned reviews.\n",
    "\n",
    "#It is needed for initializing tokenizer of keras and subsequent padding\n",
    "\n",
    "unique_words = set()\n",
    "len_max = 0\n",
    "\n",
    "for sent in tqdm(X_train):\n",
    "    \n",
    "    unique_words.update(sent)\n",
    "    \n",
    "    if(len_max<len(sent)):\n",
    "        len_max = len(sent)\n",
    "        \n",
    "#length of the list of unique_words gives the no of unique words\n",
    "print(len(list(unique_words))) # number of unique words\n",
    "print(len_max) # max length of a review"
   ]
  },
  {
   "cell_type": "code",
   "execution_count": 14,
   "metadata": {},
   "outputs": [
    {
     "name": "stdout",
     "output_type": "stream",
     "text": [
      "(124848, 48) (31212, 48) (66292, 48)\n"
     ]
    }
   ],
   "source": [
    "# Actual tokenizer of keras and convert to sequences.\n",
    "\n",
    "tokenizer = Tokenizer(num_words=len(list(unique_words)))\n",
    "tokenizer.fit_on_texts(list(X_train))\n",
    "\n",
    "#texts_to_sequences(texts)\n",
    "\n",
    "# Arguments- texts: list of texts to turn to sequences.\n",
    "# Return: list of sequences (one per text input).\n",
    "X_train = tokenizer.texts_to_sequences(X_train)\n",
    "X_val = tokenizer.texts_to_sequences(X_val)\n",
    "X_test = tokenizer.texts_to_sequences(test_sentences)\n",
    "\n",
    "# padding done to equalize the lengths of all input reviews since LSTM networks needs all inputs to be same length.\n",
    "# Therefore reviews lesser than max length will be made equal using extra zeros at end. This technique is called 'padding'.\n",
    "\n",
    "X_train = sequence.pad_sequences(X_train, maxlen=len_max)\n",
    "X_val = sequence.pad_sequences(X_val, maxlen=len_max)\n",
    "X_test = sequence.pad_sequences(X_test, maxlen=len_max)\n",
    "\n",
    "print(X_train.shape,X_val.shape,X_test.shape)"
   ]
  },
  {
   "cell_type": "code",
   "execution_count": 15,
   "metadata": {},
   "outputs": [],
   "source": [
    "# Early stopping to prevent overfitting\n",
    "# Early stopping is a method that allows you to specify an arbitrary large number of training epochs \n",
    "# and stop training, once the model performance stops improving on a hold out validation dataset.\n",
    "\n",
    "early_stopping = EarlyStopping(min_delta = 0.001, mode = 'max', monitor='val_acc', patience = 2)\n",
    "callback = [early_stopping]"
   ]
  },
  {
   "cell_type": "markdown",
   "metadata": {},
   "source": [
    "# Model's Architecture\n",
    "\n",
    "In order to train the model, we are going to use a type of Recurrent Neural Network (RNN), known as LSTM (Long Short Term Memory). The main advantage of this network is that it is able to remember the sequence of past data i.e. words in our case in order to make a decision on the sentiment of the word. \n",
    "\n",
    "This architecture is specially designed to work on sequence data since it fits perfectly for many NLP tasks like tagging and text classification. More specifically, it treats the text as a sequence rather than a bag of words or as engrams.\n",
    "\n",
    "This feature, allows the each cell to decide which of the past information to remember and the ones to forget, a great advantage in terms of performance's speed and memory's use.\n",
    "\n",
    "We are going to create the network using Keras. \n",
    "Keras is built on tensorflow and can be used to build most types of deep learning models. We are going to specify the layers of the model as below. In order to estimate the parameters such as dropout, no of cells etc we have performed a grid search with different parameter values and chose the parameters with best performance."
   ]
  },
  {
   "cell_type": "markdown",
   "metadata": {},
   "source": [
    "# Model's Parameters\n",
    "\n",
    "Activation Function: I have used ReLU as the activation function. ReLU is a non-linear activation function, which helps complex relationships in the data to be captured by the model.\n",
    "\n",
    "Optimizer: We use adam optimiser, which is an adaptive learning rate optimizer.\n",
    "\n",
    "Loss function: We will train a network to output a probability over the classes using Cross-Entropy loss, also called Softmax Loss. It is very useful for multi-class classification."
   ]
  },
  {
   "cell_type": "code",
   "execution_count": 16,
   "metadata": {},
   "outputs": [
    {
     "name": "stdout",
     "output_type": "stream",
     "text": [
      "WARNING:tensorflow:From C:\\Users\\jimis\\Anaconda3\\lib\\site-packages\\tensorflow\\python\\framework\\op_def_library.py:263: colocate_with (from tensorflow.python.framework.ops) is deprecated and will be removed in a future version.\n",
      "Instructions for updating:\n",
      "Colocations handled automatically by placer.\n",
      "WARNING:tensorflow:From C:\\Users\\jimis\\Anaconda3\\lib\\site-packages\\keras\\backend\\tensorflow_backend.py:3445: calling dropout (from tensorflow.python.ops.nn_ops) with keep_prob is deprecated and will be removed in a future version.\n",
      "Instructions for updating:\n",
      "Please use `rate` instead of `keep_prob`. Rate should be set to `rate = 1 - keep_prob`.\n",
      "_________________________________________________________________\n",
      "Layer (type)                 Output Shape              Param #   \n",
      "=================================================================\n",
      "embedding_1 (Embedding)      (None, 48, 300)           4121700   \n",
      "_________________________________________________________________\n",
      "lstm_1 (LSTM)                (None, 48, 128)           219648    \n",
      "_________________________________________________________________\n",
      "lstm_2 (LSTM)                (None, 64)                49408     \n",
      "_________________________________________________________________\n",
      "dense_1 (Dense)              (None, 100)               6500      \n",
      "_________________________________________________________________\n",
      "dropout_1 (Dropout)          (None, 100)               0         \n",
      "_________________________________________________________________\n",
      "dense_2 (Dense)              (None, 5)                 505       \n",
      "=================================================================\n",
      "Total params: 4,397,761\n",
      "Trainable params: 4,397,761\n",
      "Non-trainable params: 0\n",
      "_________________________________________________________________\n"
     ]
    }
   ],
   "source": [
    "# Model using Keras LSTM\n",
    "\n",
    "# Multilayer Perceptron (MLP) for multi-class softmax classification.\n",
    "\n",
    "#The model's definition is the following:\n",
    "\n",
    "model=Sequential()\n",
    "model.add(Embedding(len(list(unique_words)),300,input_length=len_max))\n",
    "model.add(LSTM(128,dropout=0.5, recurrent_dropout=0.5,return_sequences=True))\n",
    "model.add(LSTM(64,dropout=0.5, recurrent_dropout=0.5,return_sequences=False))\n",
    "model.add(Dense(100,activation='relu'))\n",
    "model.add(Dropout(0.5))\n",
    "model.add(Dense(num_classes,activation='softmax'))\n",
    "model.compile(loss='categorical_crossentropy',optimizer=Adam(lr=0.005),metrics=['accuracy'])\n",
    "model.summary()"
   ]
  },
  {
   "cell_type": "markdown",
   "metadata": {},
   "source": [
    "# Model's Fitting\n",
    "We have run the training on a batch size of 256 items at a time. As you increase the batch size the time for training would reduce but it will require additional computational capacity. Hence it is a trade-off between computation capacity and time for training.\n",
    "\n",
    "The training is set to run for 6 epochs. One epoch would mean that the network has seen the entire training data once. As we increase the number of epochs there is a risk that the model will overfit to the training data. Hence to prevent the model from overfitting we have enabled early stopping.\n",
    "\n",
    "Early stopping is a method that allows us to specify an arbitrary large number of training epochs and stop training once the model performance stops improving on a hold out/validation dataset."
   ]
  },
  {
   "cell_type": "code",
   "execution_count": 17,
   "metadata": {
    "scrolled": false
   },
   "outputs": [
    {
     "name": "stdout",
     "output_type": "stream",
     "text": [
      "WARNING:tensorflow:From C:\\Users\\jimis\\Anaconda3\\lib\\site-packages\\tensorflow\\python\\ops\\math_ops.py:3066: to_int32 (from tensorflow.python.ops.math_ops) is deprecated and will be removed in a future version.\n",
      "Instructions for updating:\n",
      "Use tf.cast instead.\n",
      "Train on 124848 samples, validate on 31212 samples\n",
      "Epoch 1/6\n"
     ]
    },
    {
     "name": "stdout",
     "output_type": "stream",
     "text": [
      " 52224/124848 [===========>..................] - ETA: 16:04 - loss: 1.5989 - acc: 0.26 - ETA: 9:38 - loss: 1.5365 - acc: 0.3887 - ETA: 7:25 - loss: 1.4431 - acc: 0.441 - ETA: 6:18 - loss: 1.4092 - acc: 0.462 - ETA: 5:34 - loss: 1.3776 - acc: 0.473 - ETA: 5:07 - loss: 1.3629 - acc: 0.474 - ETA: 4:45 - loss: 1.3537 - acc: 0.477 - ETA: 4:28 - loss: 1.3477 - acc: 0.480 - ETA: 4:15 - loss: 1.3274 - acc: 0.490 - ETA: 4:05 - loss: 1.3172 - acc: 0.494 - ETA: 3:57 - loss: 1.3116 - acc: 0.495 - ETA: 3:50 - loss: 1.3088 - acc: 0.493 - ETA: 3:45 - loss: 1.3066 - acc: 0.493 - ETA: 3:39 - loss: 1.2979 - acc: 0.496 - ETA: 3:35 - loss: 1.2912 - acc: 0.499 - ETA: 3:31 - loss: 1.2851 - acc: 0.502 - ETA: 3:28 - loss: 1.2870 - acc: 0.500 - ETA: 3:25 - loss: 1.2854 - acc: 0.499 - ETA: 3:21 - loss: 1.2845 - acc: 0.499 - ETA: 3:19 - loss: 1.2818 - acc: 0.500 - ETA: 3:17 - loss: 1.2788 - acc: 0.501 - ETA: 3:14 - loss: 1.2774 - acc: 0.502 - ETA: 3:12 - loss: 1.2746 - acc: 0.502 - ETA: 3:11 - loss: 1.2728 - acc: 0.503 - ETA: 3:09 - loss: 1.2752 - acc: 0.502 - ETA: 3:07 - loss: 1.2732 - acc: 0.503 - ETA: 3:05 - loss: 1.2700 - acc: 0.504 - ETA: 3:04 - loss: 1.2655 - acc: 0.506 - ETA: 3:03 - loss: 1.2649 - acc: 0.507 - ETA: 3:02 - loss: 1.2592 - acc: 0.509 - ETA: 3:01 - loss: 1.2577 - acc: 0.508 - ETA: 3:00 - loss: 1.2559 - acc: 0.509 - ETA: 2:59 - loss: 1.2547 - acc: 0.509 - ETA: 2:58 - loss: 1.2552 - acc: 0.508 - ETA: 2:58 - loss: 1.2540 - acc: 0.508 - ETA: 2:57 - loss: 1.2548 - acc: 0.507 - ETA: 2:57 - loss: 1.2540 - acc: 0.507 - ETA: 2:56 - loss: 1.2548 - acc: 0.505 - ETA: 2:56 - loss: 1.2568 - acc: 0.504 - ETA: 2:56 - loss: 1.2568 - acc: 0.504 - ETA: 2:55 - loss: 1.2574 - acc: 0.503 - ETA: 2:55 - loss: 1.2557 - acc: 0.502 - ETA: 2:55 - loss: 1.2536 - acc: 0.503 - ETA: 2:54 - loss: 1.2532 - acc: 0.503 - ETA: 2:54 - loss: 1.2524 - acc: 0.504 - ETA: 2:54 - loss: 1.2540 - acc: 0.503 - ETA: 2:53 - loss: 1.2524 - acc: 0.503 - ETA: 2:53 - loss: 1.2526 - acc: 0.503 - ETA: 2:52 - loss: 1.2525 - acc: 0.504 - ETA: 2:52 - loss: 1.2526 - acc: 0.504 - ETA: 2:51 - loss: 1.2532 - acc: 0.503 - ETA: 2:51 - loss: 1.2520 - acc: 0.504 - ETA: 2:51 - loss: 1.2502 - acc: 0.505 - ETA: 2:51 - loss: 1.2472 - acc: 0.506 - ETA: 2:50 - loss: 1.2465 - acc: 0.506 - ETA: 2:50 - loss: 1.2458 - acc: 0.507 - ETA: 2:51 - loss: 1.2464 - acc: 0.507 - ETA: 2:50 - loss: 1.2460 - acc: 0.507 - ETA: 2:50 - loss: 1.2458 - acc: 0.506 - ETA: 2:50 - loss: 1.2447 - acc: 0.507 - ETA: 2:49 - loss: 1.2441 - acc: 0.507 - ETA: 2:49 - loss: 1.2434 - acc: 0.508 - ETA: 2:49 - loss: 1.2425 - acc: 0.508 - ETA: 2:48 - loss: 1.2406 - acc: 0.509 - ETA: 2:48 - loss: 1.2398 - acc: 0.509 - ETA: 2:48 - loss: 1.2395 - acc: 0.509 - ETA: 2:47 - loss: 1.2373 - acc: 0.510 - ETA: 2:47 - loss: 1.2361 - acc: 0.510 - ETA: 2:47 - loss: 1.2350 - acc: 0.510 - ETA: 2:46 - loss: 1.2330 - acc: 0.511 - ETA: 2:46 - loss: 1.2321 - acc: 0.512 - ETA: 2:46 - loss: 1.2302 - acc: 0.512 - ETA: 2:46 - loss: 1.2282 - acc: 0.513 - ETA: 2:46 - loss: 1.2273 - acc: 0.513 - ETA: 2:46 - loss: 1.2274 - acc: 0.513 - ETA: 2:46 - loss: 1.2261 - acc: 0.514 - ETA: 2:46 - loss: 1.2244 - acc: 0.514 - ETA: 2:46 - loss: 1.2234 - acc: 0.515 - ETA: 2:46 - loss: 1.2221 - acc: 0.515 - ETA: 2:46 - loss: 1.2218 - acc: 0.515 - ETA: 2:46 - loss: 1.2212 - acc: 0.515 - ETA: 2:46 - loss: 1.2207 - acc: 0.515 - ETA: 2:46 - loss: 1.2192 - acc: 0.516 - ETA: 2:46 - loss: 1.2194 - acc: 0.516 - ETA: 2:45 - loss: 1.2182 - acc: 0.516 - ETA: 2:45 - loss: 1.2171 - acc: 0.516 - ETA: 2:45 - loss: 1.2167 - acc: 0.516 - ETA: 2:45 - loss: 1.2153 - acc: 0.517 - ETA: 2:45 - loss: 1.2152 - acc: 0.517 - ETA: 2:44 - loss: 1.2145 - acc: 0.517 - ETA: 2:44 - loss: 1.2144 - acc: 0.517 - ETA: 2:43 - loss: 1.2141 - acc: 0.517 - ETA: 2:43 - loss: 1.2134 - acc: 0.518 - ETA: 2:43 - loss: 1.2131 - acc: 0.517 - ETA: 2:42 - loss: 1.2124 - acc: 0.518 - ETA: 2:42 - loss: 1.2124 - acc: 0.518 - ETA: 2:41 - loss: 1.2124 - acc: 0.518 - ETA: 2:41 - loss: 1.2110 - acc: 0.518 - ETA: 2:41 - loss: 1.2105 - acc: 0.519 - ETA: 2:40 - loss: 1.2097 - acc: 0.520 - ETA: 2:40 - loss: 1.2095 - acc: 0.519 - ETA: 2:40 - loss: 1.2101 - acc: 0.519 - ETA: 2:39 - loss: 1.2099 - acc: 0.519 - ETA: 2:39 - loss: 1.2086 - acc: 0.519 - ETA: 2:38 - loss: 1.2080 - acc: 0.519 - ETA: 2:38 - loss: 1.2076 - acc: 0.520 - ETA: 2:38 - loss: 1.2071 - acc: 0.520 - ETA: 2:38 - loss: 1.2065 - acc: 0.520 - ETA: 2:37 - loss: 1.2065 - acc: 0.520 - ETA: 2:37 - loss: 1.2054 - acc: 0.521 - ETA: 2:37 - loss: 1.2049 - acc: 0.521 - ETA: 2:37 - loss: 1.2038 - acc: 0.521 - ETA: 2:37 - loss: 1.2035 - acc: 0.521 - ETA: 2:37 - loss: 1.2026 - acc: 0.521 - ETA: 2:37 - loss: 1.2027 - acc: 0.521 - ETA: 2:37 - loss: 1.2023 - acc: 0.522 - ETA: 2:36 - loss: 1.2022 - acc: 0.522 - ETA: 2:36 - loss: 1.2018 - acc: 0.522 - ETA: 2:36 - loss: 1.2014 - acc: 0.522 - ETA: 2:35 - loss: 1.2008 - acc: 0.522 - ETA: 2:35 - loss: 1.1998 - acc: 0.523 - ETA: 2:35 - loss: 1.1999 - acc: 0.523 - ETA: 2:35 - loss: 1.1998 - acc: 0.523 - ETA: 2:34 - loss: 1.1990 - acc: 0.523 - ETA: 2:34 - loss: 1.1982 - acc: 0.523 - ETA: 2:34 - loss: 1.1973 - acc: 0.523 - ETA: 2:33 - loss: 1.1961 - acc: 0.524 - ETA: 2:33 - loss: 1.1954 - acc: 0.524 - ETA: 2:32 - loss: 1.1952 - acc: 0.524 - ETA: 2:32 - loss: 1.1940 - acc: 0.524 - ETA: 2:32 - loss: 1.1935 - acc: 0.525 - ETA: 2:31 - loss: 1.1925 - acc: 0.525 - ETA: 2:31 - loss: 1.1922 - acc: 0.525 - ETA: 2:30 - loss: 1.1914 - acc: 0.525 - ETA: 2:30 - loss: 1.1908 - acc: 0.526 - ETA: 2:30 - loss: 1.1901 - acc: 0.526 - ETA: 2:29 - loss: 1.1886 - acc: 0.526 - ETA: 2:29 - loss: 1.1879 - acc: 0.527 - ETA: 2:28 - loss: 1.1864 - acc: 0.527 - ETA: 2:28 - loss: 1.1860 - acc: 0.527 - ETA: 2:27 - loss: 1.1854 - acc: 0.527 - ETA: 2:27 - loss: 1.1848 - acc: 0.527 - ETA: 2:27 - loss: 1.1840 - acc: 0.528 - ETA: 2:26 - loss: 1.1837 - acc: 0.528 - ETA: 2:26 - loss: 1.1830 - acc: 0.528 - ETA: 2:26 - loss: 1.1819 - acc: 0.528 - ETA: 2:25 - loss: 1.1812 - acc: 0.529 - ETA: 2:25 - loss: 1.1807 - acc: 0.529 - ETA: 2:25 - loss: 1.1803 - acc: 0.529 - ETA: 2:24 - loss: 1.1806 - acc: 0.529 - ETA: 2:24 - loss: 1.1800 - acc: 0.529 - ETA: 2:23 - loss: 1.1791 - acc: 0.529 - ETA: 2:23 - loss: 1.1787 - acc: 0.530 - ETA: 2:23 - loss: 1.1783 - acc: 0.530 - ETA: 2:22 - loss: 1.1775 - acc: 0.530 - ETA: 2:22 - loss: 1.1770 - acc: 0.531 - ETA: 2:22 - loss: 1.1769 - acc: 0.531 - ETA: 2:21 - loss: 1.1765 - acc: 0.531 - ETA: 2:21 - loss: 1.1765 - acc: 0.531 - ETA: 2:20 - loss: 1.1755 - acc: 0.531 - ETA: 2:20 - loss: 1.1748 - acc: 0.532 - ETA: 2:20 - loss: 1.1742 - acc: 0.532 - ETA: 2:19 - loss: 1.1736 - acc: 0.532 - ETA: 2:19 - loss: 1.1734 - acc: 0.532 - ETA: 2:18 - loss: 1.1724 - acc: 0.533 - ETA: 2:18 - loss: 1.1722 - acc: 0.533 - ETA: 2:17 - loss: 1.1715 - acc: 0.533 - ETA: 2:17 - loss: 1.1711 - acc: 0.533 - ETA: 2:16 - loss: 1.1706 - acc: 0.534 - ETA: 2:16 - loss: 1.1699 - acc: 0.534 - ETA: 2:16 - loss: 1.1695 - acc: 0.534 - ETA: 2:15 - loss: 1.1689 - acc: 0.534 - ETA: 2:15 - loss: 1.1681 - acc: 0.535 - ETA: 2:14 - loss: 1.1677 - acc: 0.535 - ETA: 2:14 - loss: 1.1669 - acc: 0.535 - ETA: 2:14 - loss: 1.1668 - acc: 0.535 - ETA: 2:14 - loss: 1.1659 - acc: 0.535 - ETA: 2:13 - loss: 1.1650 - acc: 0.535 - ETA: 2:13 - loss: 1.1643 - acc: 0.535 - ETA: 2:12 - loss: 1.1640 - acc: 0.535 - ETA: 2:12 - loss: 1.1627 - acc: 0.536 - ETA: 2:12 - loss: 1.1622 - acc: 0.536 - ETA: 2:11 - loss: 1.1614 - acc: 0.537 - ETA: 2:11 - loss: 1.1604 - acc: 0.537 - ETA: 2:11 - loss: 1.1589 - acc: 0.538 - ETA: 2:10 - loss: 1.1582 - acc: 0.538 - ETA: 2:10 - loss: 1.1570 - acc: 0.539 - ETA: 2:09 - loss: 1.1562 - acc: 0.539 - ETA: 2:09 - loss: 1.1555 - acc: 0.539 - ETA: 2:09 - loss: 1.1552 - acc: 0.539 - ETA: 2:08 - loss: 1.1547 - acc: 0.540 - ETA: 2:08 - loss: 1.1541 - acc: 0.540 - ETA: 2:08 - loss: 1.1533 - acc: 0.540 - ETA: 2:07 - loss: 1.1524 - acc: 0.540 - ETA: 2:07 - loss: 1.1528 - acc: 0.540 - ETA: 2:06 - loss: 1.1518 - acc: 0.541 - ETA: 2:06 - loss: 1.1507 - acc: 0.541 - ETA: 2:05 - loss: 1.1505 - acc: 0.541 - ETA: 2:05 - loss: 1.1497 - acc: 0.541 - ETA: 2:05 - loss: 1.1496 - acc: 0.542 - ETA: 2:04 - loss: 1.1491 - acc: 0.542 - ETA: 2:04 - loss: 1.1483 - acc: 0.542 - ETA: 2:03 - loss: 1.1476 - acc: 0.542 - ETA: 2:03 - loss: 1.1465 - acc: 0.5432105216/124848 [========================>.....] - ETA: 2:02 - loss: 1.1459 - acc: 0.543 - ETA: 2:02 - loss: 1.1453 - acc: 0.543 - ETA: 2:01 - loss: 1.1444 - acc: 0.543 - ETA: 2:01 - loss: 1.1434 - acc: 0.544 - ETA: 2:01 - loss: 1.1428 - acc: 0.544 - ETA: 2:00 - loss: 1.1418 - acc: 0.545 - ETA: 2:00 - loss: 1.1415 - acc: 0.545 - ETA: 1:59 - loss: 1.1408 - acc: 0.545 - ETA: 1:59 - loss: 1.1404 - acc: 0.545 - ETA: 1:58 - loss: 1.1399 - acc: 0.545 - ETA: 1:58 - loss: 1.1395 - acc: 0.545 - ETA: 1:58 - loss: 1.1383 - acc: 0.546 - ETA: 1:58 - loss: 1.1375 - acc: 0.546 - ETA: 1:57 - loss: 1.1374 - acc: 0.546 - ETA: 1:57 - loss: 1.1364 - acc: 0.546 - ETA: 1:57 - loss: 1.1356 - acc: 0.547 - ETA: 1:56 - loss: 1.1355 - acc: 0.547 - ETA: 1:56 - loss: 1.1351 - acc: 0.547 - ETA: 1:56 - loss: 1.1343 - acc: 0.547 - ETA: 1:55 - loss: 1.1336 - acc: 0.547 - ETA: 1:55 - loss: 1.1328 - acc: 0.547 - ETA: 1:54 - loss: 1.1321 - acc: 0.548 - ETA: 1:54 - loss: 1.1316 - acc: 0.548 - ETA: 1:54 - loss: 1.1313 - acc: 0.548 - ETA: 1:53 - loss: 1.1302 - acc: 0.548 - ETA: 1:53 - loss: 1.1293 - acc: 0.549 - ETA: 1:52 - loss: 1.1290 - acc: 0.549 - ETA: 1:52 - loss: 1.1286 - acc: 0.549 - ETA: 1:51 - loss: 1.1284 - acc: 0.549 - ETA: 1:51 - loss: 1.1276 - acc: 0.549 - ETA: 1:51 - loss: 1.1271 - acc: 0.550 - ETA: 1:50 - loss: 1.1265 - acc: 0.550 - ETA: 1:50 - loss: 1.1260 - acc: 0.550 - ETA: 1:49 - loss: 1.1257 - acc: 0.550 - ETA: 1:49 - loss: 1.1252 - acc: 0.551 - ETA: 1:48 - loss: 1.1244 - acc: 0.551 - ETA: 1:48 - loss: 1.1234 - acc: 0.551 - ETA: 1:47 - loss: 1.1228 - acc: 0.552 - ETA: 1:47 - loss: 1.1220 - acc: 0.552 - ETA: 1:46 - loss: 1.1213 - acc: 0.552 - ETA: 1:46 - loss: 1.1208 - acc: 0.552 - ETA: 1:46 - loss: 1.1201 - acc: 0.553 - ETA: 1:45 - loss: 1.1198 - acc: 0.553 - ETA: 1:45 - loss: 1.1195 - acc: 0.553 - ETA: 1:44 - loss: 1.1192 - acc: 0.553 - ETA: 1:44 - loss: 1.1184 - acc: 0.553 - ETA: 1:43 - loss: 1.1181 - acc: 0.553 - ETA: 1:43 - loss: 1.1175 - acc: 0.553 - ETA: 1:43 - loss: 1.1167 - acc: 0.554 - ETA: 1:42 - loss: 1.1161 - acc: 0.554 - ETA: 1:42 - loss: 1.1158 - acc: 0.554 - ETA: 1:41 - loss: 1.1156 - acc: 0.554 - ETA: 1:41 - loss: 1.1149 - acc: 0.554 - ETA: 1:40 - loss: 1.1144 - acc: 0.555 - ETA: 1:40 - loss: 1.1138 - acc: 0.555 - ETA: 1:40 - loss: 1.1131 - acc: 0.555 - ETA: 1:39 - loss: 1.1126 - acc: 0.555 - ETA: 1:39 - loss: 1.1119 - acc: 0.555 - ETA: 1:38 - loss: 1.1115 - acc: 0.555 - ETA: 1:38 - loss: 1.1110 - acc: 0.555 - ETA: 1:38 - loss: 1.1106 - acc: 0.556 - ETA: 1:37 - loss: 1.1102 - acc: 0.556 - ETA: 1:37 - loss: 1.1096 - acc: 0.556 - ETA: 1:36 - loss: 1.1089 - acc: 0.556 - ETA: 1:36 - loss: 1.1085 - acc: 0.556 - ETA: 1:35 - loss: 1.1079 - acc: 0.556 - ETA: 1:35 - loss: 1.1071 - acc: 0.557 - ETA: 1:34 - loss: 1.1067 - acc: 0.557 - ETA: 1:34 - loss: 1.1061 - acc: 0.557 - ETA: 1:34 - loss: 1.1055 - acc: 0.557 - ETA: 1:33 - loss: 1.1050 - acc: 0.557 - ETA: 1:33 - loss: 1.1044 - acc: 0.557 - ETA: 1:32 - loss: 1.1039 - acc: 0.558 - ETA: 1:32 - loss: 1.1035 - acc: 0.558 - ETA: 1:31 - loss: 1.1031 - acc: 0.558 - ETA: 1:31 - loss: 1.1023 - acc: 0.558 - ETA: 1:30 - loss: 1.1017 - acc: 0.558 - ETA: 1:30 - loss: 1.1012 - acc: 0.559 - ETA: 1:29 - loss: 1.1010 - acc: 0.559 - ETA: 1:29 - loss: 1.1008 - acc: 0.559 - ETA: 1:29 - loss: 1.1002 - acc: 0.559 - ETA: 1:28 - loss: 1.0996 - acc: 0.559 - ETA: 1:28 - loss: 1.0990 - acc: 0.560 - ETA: 1:27 - loss: 1.0985 - acc: 0.560 - ETA: 1:27 - loss: 1.0979 - acc: 0.560 - ETA: 1:26 - loss: 1.0971 - acc: 0.560 - ETA: 1:26 - loss: 1.0965 - acc: 0.561 - ETA: 1:26 - loss: 1.0959 - acc: 0.561 - ETA: 1:25 - loss: 1.0954 - acc: 0.561 - ETA: 1:25 - loss: 1.0949 - acc: 0.561 - ETA: 1:24 - loss: 1.0946 - acc: 0.561 - ETA: 1:24 - loss: 1.0941 - acc: 0.561 - ETA: 1:23 - loss: 1.0935 - acc: 0.562 - ETA: 1:23 - loss: 1.0929 - acc: 0.562 - ETA: 1:23 - loss: 1.0924 - acc: 0.562 - ETA: 1:22 - loss: 1.0918 - acc: 0.562 - ETA: 1:22 - loss: 1.0913 - acc: 0.563 - ETA: 1:21 - loss: 1.0907 - acc: 0.563 - ETA: 1:21 - loss: 1.0901 - acc: 0.563 - ETA: 1:20 - loss: 1.0894 - acc: 0.563 - ETA: 1:20 - loss: 1.0887 - acc: 0.563 - ETA: 1:20 - loss: 1.0884 - acc: 0.564 - ETA: 1:19 - loss: 1.0877 - acc: 0.564 - ETA: 1:19 - loss: 1.0871 - acc: 0.564 - ETA: 1:18 - loss: 1.0868 - acc: 0.564 - ETA: 1:18 - loss: 1.0862 - acc: 0.565 - ETA: 1:17 - loss: 1.0856 - acc: 0.565 - ETA: 1:17 - loss: 1.0852 - acc: 0.565 - ETA: 1:16 - loss: 1.0848 - acc: 0.565 - ETA: 1:16 - loss: 1.0844 - acc: 0.565 - ETA: 1:15 - loss: 1.0839 - acc: 0.566 - ETA: 1:15 - loss: 1.0835 - acc: 0.566 - ETA: 1:15 - loss: 1.0831 - acc: 0.566 - ETA: 1:14 - loss: 1.0825 - acc: 0.566 - ETA: 1:14 - loss: 1.0820 - acc: 0.566 - ETA: 1:13 - loss: 1.0812 - acc: 0.567 - ETA: 1:13 - loss: 1.0810 - acc: 0.567 - ETA: 1:12 - loss: 1.0803 - acc: 0.567 - ETA: 1:12 - loss: 1.0802 - acc: 0.567 - ETA: 1:11 - loss: 1.0795 - acc: 0.567 - ETA: 1:11 - loss: 1.0792 - acc: 0.568 - ETA: 1:11 - loss: 1.0787 - acc: 0.568 - ETA: 1:10 - loss: 1.0784 - acc: 0.568 - ETA: 1:10 - loss: 1.0781 - acc: 0.568 - ETA: 1:09 - loss: 1.0774 - acc: 0.568 - ETA: 1:09 - loss: 1.0769 - acc: 0.568 - ETA: 1:08 - loss: 1.0766 - acc: 0.569 - ETA: 1:08 - loss: 1.0760 - acc: 0.569 - ETA: 1:08 - loss: 1.0755 - acc: 0.569 - ETA: 1:07 - loss: 1.0747 - acc: 0.569 - ETA: 1:07 - loss: 1.0743 - acc: 0.569 - ETA: 1:06 - loss: 1.0741 - acc: 0.570 - ETA: 1:06 - loss: 1.0736 - acc: 0.570 - ETA: 1:05 - loss: 1.0732 - acc: 0.570 - ETA: 1:05 - loss: 1.0726 - acc: 0.570 - ETA: 1:05 - loss: 1.0722 - acc: 0.570 - ETA: 1:04 - loss: 1.0718 - acc: 0.570 - ETA: 1:04 - loss: 1.0714 - acc: 0.571 - ETA: 1:03 - loss: 1.0710 - acc: 0.571 - ETA: 1:03 - loss: 1.0704 - acc: 0.571 - ETA: 1:02 - loss: 1.0699 - acc: 0.571 - ETA: 1:02 - loss: 1.0693 - acc: 0.571 - ETA: 1:01 - loss: 1.0692 - acc: 0.571 - ETA: 1:01 - loss: 1.0689 - acc: 0.572 - ETA: 1:00 - loss: 1.0683 - acc: 0.572 - ETA: 1:00 - loss: 1.0681 - acc: 0.572 - ETA: 1:00 - loss: 1.0676 - acc: 0.572 - ETA: 59s - loss: 1.0673 - acc: 0.572 - ETA: 59s - loss: 1.0667 - acc: 0.57 - ETA: 58s - loss: 1.0662 - acc: 0.57 - ETA: 58s - loss: 1.0658 - acc: 0.57 - ETA: 57s - loss: 1.0654 - acc: 0.57 - ETA: 57s - loss: 1.0651 - acc: 0.57 - ETA: 56s - loss: 1.0649 - acc: 0.57 - ETA: 56s - loss: 1.0645 - acc: 0.57 - ETA: 56s - loss: 1.0637 - acc: 0.57 - ETA: 55s - loss: 1.0633 - acc: 0.57 - ETA: 55s - loss: 1.0629 - acc: 0.57 - ETA: 54s - loss: 1.0624 - acc: 0.57 - ETA: 54s - loss: 1.0620 - acc: 0.57 - ETA: 53s - loss: 1.0617 - acc: 0.57 - ETA: 53s - loss: 1.0612 - acc: 0.57 - ETA: 53s - loss: 1.0609 - acc: 0.57 - ETA: 52s - loss: 1.0604 - acc: 0.57 - ETA: 52s - loss: 1.0601 - acc: 0.57 - ETA: 51s - loss: 1.0596 - acc: 0.57 - ETA: 51s - loss: 1.0592 - acc: 0.57 - ETA: 50s - loss: 1.0589 - acc: 0.57 - ETA: 50s - loss: 1.0584 - acc: 0.57 - ETA: 50s - loss: 1.0580 - acc: 0.57 - ETA: 49s - loss: 1.0577 - acc: 0.57 - ETA: 49s - loss: 1.0573 - acc: 0.57 - ETA: 48s - loss: 1.0568 - acc: 0.57 - ETA: 48s - loss: 1.0565 - acc: 0.57 - ETA: 47s - loss: 1.0563 - acc: 0.57 - ETA: 47s - loss: 1.0559 - acc: 0.57 - ETA: 47s - loss: 1.0557 - acc: 0.57 - ETA: 46s - loss: 1.0554 - acc: 0.57 - ETA: 46s - loss: 1.0551 - acc: 0.57 - ETA: 45s - loss: 1.0549 - acc: 0.57 - ETA: 45s - loss: 1.0542 - acc: 0.57 - ETA: 44s - loss: 1.0539 - acc: 0.57 - ETA: 44s - loss: 1.0536 - acc: 0.57 - ETA: 43s - loss: 1.0532 - acc: 0.57 - ETA: 43s - loss: 1.0527 - acc: 0.57 - ETA: 43s - loss: 1.0524 - acc: 0.57 - ETA: 42s - loss: 1.0519 - acc: 0.57 - ETA: 42s - loss: 1.0515 - acc: 0.57 - ETA: 41s - loss: 1.0513 - acc: 0.57 - ETA: 41s - loss: 1.0509 - acc: 0.57 - ETA: 40s - loss: 1.0505 - acc: 0.57 - ETA: 40s - loss: 1.0501 - acc: 0.57 - ETA: 40s - loss: 1.0497 - acc: 0.57 - ETA: 39s - loss: 1.0493 - acc: 0.57 - ETA: 39s - loss: 1.0491 - acc: 0.57 - ETA: 38s - loss: 1.0487 - acc: 0.57 - ETA: 38s - loss: 1.0482 - acc: 0.57 - ETA: 37s - loss: 1.0480 - acc: 0.57 - ETA: 37s - loss: 1.0473 - acc: 0.58 - ETA: 36s - loss: 1.0468 - acc: 0.58 - ETA: 36s - loss: 1.0466 - acc: 0.58 - ETA: 36s - loss: 1.0463 - acc: 0.58 - ETA: 35s - loss: 1.0460 - acc: 0.58 - ETA: 35s - loss: 1.0457 - acc: 0.58 - ETA: 34s - loss: 1.0454 - acc: 0.58 - ETA: 34s - loss: 1.0453 - acc: 0.58 - ETA: 33s - loss: 1.0450 - acc: 0.5808124848/124848 [==============================] - ETA: 33s - loss: 1.0445 - acc: 0.58 - ETA: 33s - loss: 1.0438 - acc: 0.58 - ETA: 32s - loss: 1.0435 - acc: 0.58 - ETA: 32s - loss: 1.0433 - acc: 0.58 - ETA: 31s - loss: 1.0428 - acc: 0.58 - ETA: 31s - loss: 1.0426 - acc: 0.58 - ETA: 30s - loss: 1.0422 - acc: 0.58 - ETA: 30s - loss: 1.0418 - acc: 0.58 - ETA: 29s - loss: 1.0415 - acc: 0.58 - ETA: 29s - loss: 1.0411 - acc: 0.58 - ETA: 29s - loss: 1.0408 - acc: 0.58 - ETA: 28s - loss: 1.0406 - acc: 0.58 - ETA: 28s - loss: 1.0404 - acc: 0.58 - ETA: 27s - loss: 1.0399 - acc: 0.58 - ETA: 27s - loss: 1.0396 - acc: 0.58 - ETA: 26s - loss: 1.0394 - acc: 0.58 - ETA: 26s - loss: 1.0390 - acc: 0.58 - ETA: 25s - loss: 1.0387 - acc: 0.58 - ETA: 25s - loss: 1.0384 - acc: 0.58 - ETA: 25s - loss: 1.0381 - acc: 0.58 - ETA: 24s - loss: 1.0378 - acc: 0.58 - ETA: 24s - loss: 1.0376 - acc: 0.58 - ETA: 23s - loss: 1.0373 - acc: 0.58 - ETA: 23s - loss: 1.0367 - acc: 0.58 - ETA: 22s - loss: 1.0366 - acc: 0.58 - ETA: 22s - loss: 1.0361 - acc: 0.58 - ETA: 21s - loss: 1.0360 - acc: 0.58 - ETA: 21s - loss: 1.0359 - acc: 0.58 - ETA: 21s - loss: 1.0355 - acc: 0.58 - ETA: 20s - loss: 1.0352 - acc: 0.58 - ETA: 20s - loss: 1.0348 - acc: 0.58 - ETA: 19s - loss: 1.0345 - acc: 0.58 - ETA: 19s - loss: 1.0342 - acc: 0.58 - ETA: 18s - loss: 1.0342 - acc: 0.58 - ETA: 18s - loss: 1.0338 - acc: 0.58 - ETA: 18s - loss: 1.0336 - acc: 0.58 - ETA: 17s - loss: 1.0333 - acc: 0.58 - ETA: 17s - loss: 1.0329 - acc: 0.58 - ETA: 16s - loss: 1.0326 - acc: 0.58 - ETA: 16s - loss: 1.0322 - acc: 0.58 - ETA: 15s - loss: 1.0320 - acc: 0.58 - ETA: 15s - loss: 1.0317 - acc: 0.58 - ETA: 14s - loss: 1.0314 - acc: 0.58 - ETA: 14s - loss: 1.0311 - acc: 0.58 - ETA: 14s - loss: 1.0307 - acc: 0.58 - ETA: 13s - loss: 1.0303 - acc: 0.58 - ETA: 13s - loss: 1.0300 - acc: 0.58 - ETA: 12s - loss: 1.0297 - acc: 0.58 - ETA: 12s - loss: 1.0295 - acc: 0.58 - ETA: 11s - loss: 1.0292 - acc: 0.58 - ETA: 11s - loss: 1.0289 - acc: 0.58 - ETA: 10s - loss: 1.0286 - acc: 0.58 - ETA: 10s - loss: 1.0282 - acc: 0.58 - ETA: 10s - loss: 1.0277 - acc: 0.58 - ETA: 9s - loss: 1.0274 - acc: 0.5871 - ETA: 9s - loss: 1.0271 - acc: 0.587 - ETA: 8s - loss: 1.0269 - acc: 0.587 - ETA: 8s - loss: 1.0266 - acc: 0.587 - ETA: 7s - loss: 1.0264 - acc: 0.587 - ETA: 7s - loss: 1.0260 - acc: 0.587 - ETA: 6s - loss: 1.0256 - acc: 0.587 - ETA: 6s - loss: 1.0253 - acc: 0.587 - ETA: 6s - loss: 1.0250 - acc: 0.587 - ETA: 5s - loss: 1.0248 - acc: 0.588 - ETA: 5s - loss: 1.0244 - acc: 0.588 - ETA: 4s - loss: 1.0241 - acc: 0.588 - ETA: 4s - loss: 1.0238 - acc: 0.588 - ETA: 3s - loss: 1.0235 - acc: 0.588 - ETA: 3s - loss: 1.0230 - acc: 0.588 - ETA: 2s - loss: 1.0228 - acc: 0.588 - ETA: 2s - loss: 1.0226 - acc: 0.588 - ETA: 2s - loss: 1.0222 - acc: 0.588 - ETA: 1s - loss: 1.0216 - acc: 0.589 - ETA: 1s - loss: 1.0214 - acc: 0.589 - ETA: 0s - loss: 1.0211 - acc: 0.589 - ETA: 0s - loss: 1.0210 - acc: 0.589 - 228s 2ms/step - loss: 1.0207 - acc: 0.5895 - val_loss: 0.8426 - val_acc: 0.6553\n",
      "Epoch 2/6\n"
     ]
    },
    {
     "name": "stdout",
     "output_type": "stream",
     "text": [
      " 52224/124848 [===========>..................] - ETA: 3:58 - loss: 0.8996 - acc: 0.597 - ETA: 3:49 - loss: 0.8615 - acc: 0.621 - ETA: 3:39 - loss: 0.8638 - acc: 0.628 - ETA: 3:33 - loss: 0.8370 - acc: 0.643 - ETA: 3:41 - loss: 0.8314 - acc: 0.650 - ETA: 3:44 - loss: 0.8352 - acc: 0.648 - ETA: 3:44 - loss: 0.8274 - acc: 0.653 - ETA: 3:42 - loss: 0.8155 - acc: 0.661 - ETA: 3:43 - loss: 0.8259 - acc: 0.657 - ETA: 3:43 - loss: 0.8235 - acc: 0.657 - ETA: 3:43 - loss: 0.8165 - acc: 0.662 - ETA: 3:43 - loss: 0.8123 - acc: 0.665 - ETA: 3:42 - loss: 0.8069 - acc: 0.666 - ETA: 3:40 - loss: 0.8000 - acc: 0.668 - ETA: 3:39 - loss: 0.8074 - acc: 0.668 - ETA: 3:39 - loss: 0.8039 - acc: 0.666 - ETA: 3:38 - loss: 0.8057 - acc: 0.666 - ETA: 3:37 - loss: 0.8050 - acc: 0.665 - ETA: 3:36 - loss: 0.8035 - acc: 0.665 - ETA: 3:36 - loss: 0.8022 - acc: 0.665 - ETA: 3:36 - loss: 0.8012 - acc: 0.665 - ETA: 3:35 - loss: 0.8038 - acc: 0.665 - ETA: 3:35 - loss: 0.8010 - acc: 0.666 - ETA: 3:35 - loss: 0.8032 - acc: 0.665 - ETA: 3:35 - loss: 0.8051 - acc: 0.664 - ETA: 3:35 - loss: 0.8062 - acc: 0.665 - ETA: 3:35 - loss: 0.8112 - acc: 0.662 - ETA: 3:34 - loss: 0.8116 - acc: 0.662 - ETA: 3:34 - loss: 0.8136 - acc: 0.662 - ETA: 3:33 - loss: 0.8169 - acc: 0.660 - ETA: 3:33 - loss: 0.8147 - acc: 0.660 - ETA: 3:32 - loss: 0.8159 - acc: 0.660 - ETA: 3:31 - loss: 0.8158 - acc: 0.661 - ETA: 3:31 - loss: 0.8156 - acc: 0.662 - ETA: 3:31 - loss: 0.8181 - acc: 0.661 - ETA: 3:30 - loss: 0.8185 - acc: 0.660 - ETA: 3:30 - loss: 0.8182 - acc: 0.659 - ETA: 3:30 - loss: 0.8227 - acc: 0.658 - ETA: 3:29 - loss: 0.8214 - acc: 0.659 - ETA: 3:28 - loss: 0.8239 - acc: 0.659 - ETA: 3:28 - loss: 0.8219 - acc: 0.659 - ETA: 3:27 - loss: 0.8240 - acc: 0.659 - ETA: 3:26 - loss: 0.8233 - acc: 0.659 - ETA: 3:25 - loss: 0.8224 - acc: 0.659 - ETA: 3:25 - loss: 0.8229 - acc: 0.658 - ETA: 3:24 - loss: 0.8245 - acc: 0.657 - ETA: 3:23 - loss: 0.8228 - acc: 0.657 - ETA: 3:23 - loss: 0.8214 - acc: 0.658 - ETA: 3:22 - loss: 0.8226 - acc: 0.657 - ETA: 3:22 - loss: 0.8243 - acc: 0.656 - ETA: 3:21 - loss: 0.8222 - acc: 0.657 - ETA: 3:21 - loss: 0.8222 - acc: 0.657 - ETA: 3:20 - loss: 0.8222 - acc: 0.657 - ETA: 3:20 - loss: 0.8217 - acc: 0.658 - ETA: 3:19 - loss: 0.8216 - acc: 0.658 - ETA: 3:19 - loss: 0.8201 - acc: 0.659 - ETA: 3:19 - loss: 0.8188 - acc: 0.660 - ETA: 3:18 - loss: 0.8191 - acc: 0.660 - ETA: 3:18 - loss: 0.8196 - acc: 0.660 - ETA: 3:18 - loss: 0.8194 - acc: 0.660 - ETA: 3:18 - loss: 0.8186 - acc: 0.660 - ETA: 3:17 - loss: 0.8190 - acc: 0.660 - ETA: 3:17 - loss: 0.8191 - acc: 0.661 - ETA: 3:16 - loss: 0.8191 - acc: 0.661 - ETA: 3:16 - loss: 0.8189 - acc: 0.661 - ETA: 3:15 - loss: 0.8180 - acc: 0.661 - ETA: 3:15 - loss: 0.8183 - acc: 0.662 - ETA: 3:14 - loss: 0.8180 - acc: 0.662 - ETA: 3:14 - loss: 0.8195 - acc: 0.661 - ETA: 3:14 - loss: 0.8204 - acc: 0.661 - ETA: 3:13 - loss: 0.8208 - acc: 0.661 - ETA: 3:12 - loss: 0.8208 - acc: 0.661 - ETA: 3:12 - loss: 0.8198 - acc: 0.661 - ETA: 3:11 - loss: 0.8187 - acc: 0.661 - ETA: 3:11 - loss: 0.8177 - acc: 0.661 - ETA: 3:10 - loss: 0.8167 - acc: 0.662 - ETA: 3:09 - loss: 0.8168 - acc: 0.661 - ETA: 3:09 - loss: 0.8152 - acc: 0.662 - ETA: 3:08 - loss: 0.8143 - acc: 0.663 - ETA: 3:07 - loss: 0.8141 - acc: 0.663 - ETA: 3:07 - loss: 0.8137 - acc: 0.663 - ETA: 3:06 - loss: 0.8130 - acc: 0.664 - ETA: 3:06 - loss: 0.8136 - acc: 0.664 - ETA: 3:05 - loss: 0.8136 - acc: 0.664 - ETA: 3:05 - loss: 0.8139 - acc: 0.663 - ETA: 3:04 - loss: 0.8135 - acc: 0.664 - ETA: 3:03 - loss: 0.8142 - acc: 0.663 - ETA: 3:03 - loss: 0.8137 - acc: 0.664 - ETA: 3:03 - loss: 0.8145 - acc: 0.663 - ETA: 3:02 - loss: 0.8152 - acc: 0.663 - ETA: 3:02 - loss: 0.8155 - acc: 0.663 - ETA: 3:01 - loss: 0.8158 - acc: 0.663 - ETA: 3:01 - loss: 0.8159 - acc: 0.663 - ETA: 3:01 - loss: 0.8161 - acc: 0.663 - ETA: 3:00 - loss: 0.8154 - acc: 0.664 - ETA: 3:00 - loss: 0.8155 - acc: 0.664 - ETA: 3:00 - loss: 0.8161 - acc: 0.663 - ETA: 2:59 - loss: 0.8168 - acc: 0.663 - ETA: 2:59 - loss: 0.8169 - acc: 0.663 - ETA: 2:59 - loss: 0.8168 - acc: 0.663 - ETA: 2:59 - loss: 0.8155 - acc: 0.663 - ETA: 2:58 - loss: 0.8146 - acc: 0.664 - ETA: 2:58 - loss: 0.8141 - acc: 0.665 - ETA: 2:58 - loss: 0.8148 - acc: 0.664 - ETA: 2:57 - loss: 0.8155 - acc: 0.664 - ETA: 2:57 - loss: 0.8150 - acc: 0.664 - ETA: 2:56 - loss: 0.8150 - acc: 0.664 - ETA: 2:56 - loss: 0.8146 - acc: 0.664 - ETA: 2:55 - loss: 0.8152 - acc: 0.664 - ETA: 2:54 - loss: 0.8159 - acc: 0.663 - ETA: 2:54 - loss: 0.8155 - acc: 0.664 - ETA: 2:53 - loss: 0.8155 - acc: 0.664 - ETA: 2:53 - loss: 0.8160 - acc: 0.664 - ETA: 2:52 - loss: 0.8153 - acc: 0.664 - ETA: 2:52 - loss: 0.8153 - acc: 0.664 - ETA: 2:51 - loss: 0.8147 - acc: 0.664 - ETA: 2:51 - loss: 0.8150 - acc: 0.664 - ETA: 2:50 - loss: 0.8160 - acc: 0.664 - ETA: 2:49 - loss: 0.8157 - acc: 0.664 - ETA: 2:49 - loss: 0.8164 - acc: 0.664 - ETA: 2:49 - loss: 0.8169 - acc: 0.663 - ETA: 2:48 - loss: 0.8169 - acc: 0.663 - ETA: 2:48 - loss: 0.8164 - acc: 0.664 - ETA: 2:47 - loss: 0.8162 - acc: 0.664 - ETA: 2:47 - loss: 0.8155 - acc: 0.664 - ETA: 2:46 - loss: 0.8154 - acc: 0.664 - ETA: 2:46 - loss: 0.8153 - acc: 0.664 - ETA: 2:46 - loss: 0.8155 - acc: 0.664 - ETA: 2:45 - loss: 0.8158 - acc: 0.664 - ETA: 2:45 - loss: 0.8159 - acc: 0.664 - ETA: 2:44 - loss: 0.8162 - acc: 0.664 - ETA: 2:44 - loss: 0.8165 - acc: 0.663 - ETA: 2:44 - loss: 0.8171 - acc: 0.663 - ETA: 2:43 - loss: 0.8169 - acc: 0.663 - ETA: 2:42 - loss: 0.8169 - acc: 0.663 - ETA: 2:42 - loss: 0.8166 - acc: 0.663 - ETA: 2:42 - loss: 0.8159 - acc: 0.664 - ETA: 2:41 - loss: 0.8153 - acc: 0.664 - ETA: 2:41 - loss: 0.8150 - acc: 0.664 - ETA: 2:40 - loss: 0.8148 - acc: 0.664 - ETA: 2:40 - loss: 0.8143 - acc: 0.664 - ETA: 2:39 - loss: 0.8150 - acc: 0.664 - ETA: 2:39 - loss: 0.8153 - acc: 0.664 - ETA: 2:38 - loss: 0.8154 - acc: 0.664 - ETA: 2:38 - loss: 0.8152 - acc: 0.664 - ETA: 2:37 - loss: 0.8150 - acc: 0.664 - ETA: 2:37 - loss: 0.8150 - acc: 0.664 - ETA: 2:36 - loss: 0.8149 - acc: 0.664 - ETA: 2:36 - loss: 0.8151 - acc: 0.664 - ETA: 2:35 - loss: 0.8153 - acc: 0.664 - ETA: 2:35 - loss: 0.8157 - acc: 0.664 - ETA: 2:34 - loss: 0.8162 - acc: 0.663 - ETA: 2:33 - loss: 0.8159 - acc: 0.663 - ETA: 2:33 - loss: 0.8158 - acc: 0.663 - ETA: 2:32 - loss: 0.8158 - acc: 0.663 - ETA: 2:32 - loss: 0.8152 - acc: 0.664 - ETA: 2:31 - loss: 0.8152 - acc: 0.664 - ETA: 2:31 - loss: 0.8156 - acc: 0.664 - ETA: 2:30 - loss: 0.8149 - acc: 0.664 - ETA: 2:30 - loss: 0.8155 - acc: 0.664 - ETA: 2:30 - loss: 0.8156 - acc: 0.664 - ETA: 2:29 - loss: 0.8156 - acc: 0.664 - ETA: 2:29 - loss: 0.8160 - acc: 0.664 - ETA: 2:28 - loss: 0.8160 - acc: 0.664 - ETA: 2:28 - loss: 0.8153 - acc: 0.664 - ETA: 2:28 - loss: 0.8153 - acc: 0.664 - ETA: 2:27 - loss: 0.8154 - acc: 0.664 - ETA: 2:27 - loss: 0.8154 - acc: 0.664 - ETA: 2:26 - loss: 0.8153 - acc: 0.664 - ETA: 2:26 - loss: 0.8154 - acc: 0.664 - ETA: 2:25 - loss: 0.8157 - acc: 0.663 - ETA: 2:25 - loss: 0.8154 - acc: 0.663 - ETA: 2:25 - loss: 0.8151 - acc: 0.664 - ETA: 2:24 - loss: 0.8155 - acc: 0.664 - ETA: 2:24 - loss: 0.8158 - acc: 0.664 - ETA: 2:23 - loss: 0.8159 - acc: 0.664 - ETA: 2:23 - loss: 0.8156 - acc: 0.664 - ETA: 2:22 - loss: 0.8153 - acc: 0.664 - ETA: 2:22 - loss: 0.8149 - acc: 0.664 - ETA: 2:21 - loss: 0.8147 - acc: 0.664 - ETA: 2:21 - loss: 0.8151 - acc: 0.664 - ETA: 2:20 - loss: 0.8152 - acc: 0.664 - ETA: 2:20 - loss: 0.8153 - acc: 0.665 - ETA: 2:19 - loss: 0.8159 - acc: 0.664 - ETA: 2:19 - loss: 0.8163 - acc: 0.664 - ETA: 2:18 - loss: 0.8160 - acc: 0.664 - ETA: 2:18 - loss: 0.8159 - acc: 0.664 - ETA: 2:17 - loss: 0.8156 - acc: 0.664 - ETA: 2:17 - loss: 0.8155 - acc: 0.664 - ETA: 2:16 - loss: 0.8156 - acc: 0.664 - ETA: 2:16 - loss: 0.8159 - acc: 0.664 - ETA: 2:15 - loss: 0.8161 - acc: 0.664 - ETA: 2:15 - loss: 0.8166 - acc: 0.664 - ETA: 2:14 - loss: 0.8169 - acc: 0.663 - ETA: 2:14 - loss: 0.8167 - acc: 0.663 - ETA: 2:14 - loss: 0.8169 - acc: 0.663 - ETA: 2:13 - loss: 0.8165 - acc: 0.664 - ETA: 2:13 - loss: 0.8163 - acc: 0.664 - ETA: 2:12 - loss: 0.8165 - acc: 0.663 - ETA: 2:12 - loss: 0.8168 - acc: 0.663 - ETA: 2:12 - loss: 0.8170 - acc: 0.663 - ETA: 2:11 - loss: 0.8169 - acc: 0.663 - ETA: 2:11 - loss: 0.8169 - acc: 0.663 - ETA: 2:10 - loss: 0.8172 - acc: 0.6634105216/124848 [========================>.....] - ETA: 2:10 - loss: 0.8171 - acc: 0.663 - ETA: 2:09 - loss: 0.8170 - acc: 0.663 - ETA: 2:09 - loss: 0.8173 - acc: 0.663 - ETA: 2:08 - loss: 0.8171 - acc: 0.663 - ETA: 2:08 - loss: 0.8172 - acc: 0.663 - ETA: 2:07 - loss: 0.8173 - acc: 0.663 - ETA: 2:07 - loss: 0.8168 - acc: 0.663 - ETA: 2:06 - loss: 0.8170 - acc: 0.663 - ETA: 2:06 - loss: 0.8171 - acc: 0.662 - ETA: 2:05 - loss: 0.8167 - acc: 0.663 - ETA: 2:05 - loss: 0.8169 - acc: 0.663 - ETA: 2:04 - loss: 0.8167 - acc: 0.663 - ETA: 2:04 - loss: 0.8167 - acc: 0.663 - ETA: 2:03 - loss: 0.8169 - acc: 0.663 - ETA: 2:03 - loss: 0.8168 - acc: 0.663 - ETA: 2:02 - loss: 0.8166 - acc: 0.663 - ETA: 2:02 - loss: 0.8164 - acc: 0.663 - ETA: 2:01 - loss: 0.8163 - acc: 0.663 - ETA: 2:01 - loss: 0.8163 - acc: 0.663 - ETA: 2:00 - loss: 0.8162 - acc: 0.663 - ETA: 2:00 - loss: 0.8162 - acc: 0.663 - ETA: 1:59 - loss: 0.8159 - acc: 0.663 - ETA: 1:59 - loss: 0.8156 - acc: 0.663 - ETA: 1:58 - loss: 0.8157 - acc: 0.663 - ETA: 1:58 - loss: 0.8157 - acc: 0.663 - ETA: 1:58 - loss: 0.8154 - acc: 0.663 - ETA: 1:57 - loss: 0.8154 - acc: 0.663 - ETA: 1:57 - loss: 0.8155 - acc: 0.663 - ETA: 1:56 - loss: 0.8155 - acc: 0.663 - ETA: 1:56 - loss: 0.8158 - acc: 0.663 - ETA: 1:55 - loss: 0.8158 - acc: 0.663 - ETA: 1:55 - loss: 0.8154 - acc: 0.664 - ETA: 1:54 - loss: 0.8151 - acc: 0.664 - ETA: 1:54 - loss: 0.8150 - acc: 0.664 - ETA: 1:54 - loss: 0.8146 - acc: 0.664 - ETA: 1:53 - loss: 0.8145 - acc: 0.664 - ETA: 1:53 - loss: 0.8147 - acc: 0.664 - ETA: 1:52 - loss: 0.8147 - acc: 0.664 - ETA: 1:52 - loss: 0.8145 - acc: 0.664 - ETA: 1:52 - loss: 0.8139 - acc: 0.664 - ETA: 1:51 - loss: 0.8138 - acc: 0.664 - ETA: 1:51 - loss: 0.8136 - acc: 0.664 - ETA: 1:50 - loss: 0.8134 - acc: 0.665 - ETA: 1:50 - loss: 0.8135 - acc: 0.665 - ETA: 1:49 - loss: 0.8136 - acc: 0.665 - ETA: 1:49 - loss: 0.8137 - acc: 0.664 - ETA: 1:48 - loss: 0.8140 - acc: 0.664 - ETA: 1:48 - loss: 0.8141 - acc: 0.664 - ETA: 1:47 - loss: 0.8141 - acc: 0.664 - ETA: 1:47 - loss: 0.8140 - acc: 0.664 - ETA: 1:46 - loss: 0.8144 - acc: 0.664 - ETA: 1:46 - loss: 0.8148 - acc: 0.664 - ETA: 1:45 - loss: 0.8149 - acc: 0.664 - ETA: 1:45 - loss: 0.8152 - acc: 0.664 - ETA: 1:45 - loss: 0.8150 - acc: 0.664 - ETA: 1:44 - loss: 0.8150 - acc: 0.664 - ETA: 1:44 - loss: 0.8149 - acc: 0.664 - ETA: 1:43 - loss: 0.8149 - acc: 0.664 - ETA: 1:43 - loss: 0.8149 - acc: 0.664 - ETA: 1:42 - loss: 0.8149 - acc: 0.664 - ETA: 1:42 - loss: 0.8151 - acc: 0.664 - ETA: 1:41 - loss: 0.8148 - acc: 0.664 - ETA: 1:41 - loss: 0.8146 - acc: 0.664 - ETA: 1:40 - loss: 0.8145 - acc: 0.664 - ETA: 1:40 - loss: 0.8145 - acc: 0.664 - ETA: 1:39 - loss: 0.8144 - acc: 0.664 - ETA: 1:39 - loss: 0.8145 - acc: 0.664 - ETA: 1:39 - loss: 0.8142 - acc: 0.664 - ETA: 1:38 - loss: 0.8144 - acc: 0.664 - ETA: 1:38 - loss: 0.8141 - acc: 0.664 - ETA: 1:37 - loss: 0.8142 - acc: 0.664 - ETA: 1:37 - loss: 0.8141 - acc: 0.664 - ETA: 1:36 - loss: 0.8140 - acc: 0.664 - ETA: 1:36 - loss: 0.8144 - acc: 0.664 - ETA: 1:35 - loss: 0.8146 - acc: 0.664 - ETA: 1:35 - loss: 0.8144 - acc: 0.664 - ETA: 1:34 - loss: 0.8146 - acc: 0.664 - ETA: 1:34 - loss: 0.8146 - acc: 0.664 - ETA: 1:33 - loss: 0.8146 - acc: 0.664 - ETA: 1:33 - loss: 0.8145 - acc: 0.664 - ETA: 1:33 - loss: 0.8144 - acc: 0.664 - ETA: 1:32 - loss: 0.8147 - acc: 0.664 - ETA: 1:32 - loss: 0.8144 - acc: 0.664 - ETA: 1:31 - loss: 0.8144 - acc: 0.663 - ETA: 1:31 - loss: 0.8141 - acc: 0.664 - ETA: 1:30 - loss: 0.8145 - acc: 0.664 - ETA: 1:30 - loss: 0.8146 - acc: 0.663 - ETA: 1:29 - loss: 0.8144 - acc: 0.664 - ETA: 1:29 - loss: 0.8144 - acc: 0.664 - ETA: 1:28 - loss: 0.8146 - acc: 0.664 - ETA: 1:28 - loss: 0.8144 - acc: 0.664 - ETA: 1:27 - loss: 0.8145 - acc: 0.663 - ETA: 1:27 - loss: 0.8142 - acc: 0.663 - ETA: 1:26 - loss: 0.8142 - acc: 0.664 - ETA: 1:26 - loss: 0.8144 - acc: 0.663 - ETA: 1:25 - loss: 0.8144 - acc: 0.663 - ETA: 1:25 - loss: 0.8145 - acc: 0.663 - ETA: 1:25 - loss: 0.8145 - acc: 0.663 - ETA: 1:24 - loss: 0.8144 - acc: 0.663 - ETA: 1:24 - loss: 0.8145 - acc: 0.663 - ETA: 1:23 - loss: 0.8144 - acc: 0.663 - ETA: 1:23 - loss: 0.8144 - acc: 0.663 - ETA: 1:22 - loss: 0.8145 - acc: 0.663 - ETA: 1:22 - loss: 0.8144 - acc: 0.663 - ETA: 1:21 - loss: 0.8143 - acc: 0.664 - ETA: 1:21 - loss: 0.8142 - acc: 0.664 - ETA: 1:21 - loss: 0.8140 - acc: 0.664 - ETA: 1:20 - loss: 0.8139 - acc: 0.664 - ETA: 1:20 - loss: 0.8139 - acc: 0.664 - ETA: 1:19 - loss: 0.8137 - acc: 0.664 - ETA: 1:19 - loss: 0.8138 - acc: 0.664 - ETA: 1:18 - loss: 0.8141 - acc: 0.664 - ETA: 1:18 - loss: 0.8141 - acc: 0.664 - ETA: 1:17 - loss: 0.8140 - acc: 0.664 - ETA: 1:17 - loss: 0.8140 - acc: 0.664 - ETA: 1:16 - loss: 0.8141 - acc: 0.664 - ETA: 1:16 - loss: 0.8142 - acc: 0.664 - ETA: 1:15 - loss: 0.8142 - acc: 0.664 - ETA: 1:15 - loss: 0.8143 - acc: 0.664 - ETA: 1:14 - loss: 0.8142 - acc: 0.664 - ETA: 1:14 - loss: 0.8140 - acc: 0.664 - ETA: 1:13 - loss: 0.8139 - acc: 0.664 - ETA: 1:13 - loss: 0.8139 - acc: 0.664 - ETA: 1:13 - loss: 0.8141 - acc: 0.664 - ETA: 1:12 - loss: 0.8140 - acc: 0.664 - ETA: 1:12 - loss: 0.8141 - acc: 0.664 - ETA: 1:11 - loss: 0.8142 - acc: 0.664 - ETA: 1:11 - loss: 0.8143 - acc: 0.664 - ETA: 1:10 - loss: 0.8141 - acc: 0.664 - ETA: 1:10 - loss: 0.8142 - acc: 0.664 - ETA: 1:09 - loss: 0.8144 - acc: 0.664 - ETA: 1:09 - loss: 0.8143 - acc: 0.664 - ETA: 1:09 - loss: 0.8144 - acc: 0.664 - ETA: 1:08 - loss: 0.8141 - acc: 0.664 - ETA: 1:08 - loss: 0.8140 - acc: 0.664 - ETA: 1:07 - loss: 0.8140 - acc: 0.664 - ETA: 1:07 - loss: 0.8141 - acc: 0.664 - ETA: 1:06 - loss: 0.8140 - acc: 0.664 - ETA: 1:06 - loss: 0.8139 - acc: 0.664 - ETA: 1:05 - loss: 0.8137 - acc: 0.664 - ETA: 1:05 - loss: 0.8139 - acc: 0.664 - ETA: 1:05 - loss: 0.8139 - acc: 0.664 - ETA: 1:04 - loss: 0.8139 - acc: 0.664 - ETA: 1:04 - loss: 0.8138 - acc: 0.664 - ETA: 1:03 - loss: 0.8137 - acc: 0.664 - ETA: 1:03 - loss: 0.8136 - acc: 0.664 - ETA: 1:02 - loss: 0.8135 - acc: 0.665 - ETA: 1:02 - loss: 0.8133 - acc: 0.665 - ETA: 1:02 - loss: 0.8131 - acc: 0.665 - ETA: 1:01 - loss: 0.8133 - acc: 0.665 - ETA: 1:01 - loss: 0.8135 - acc: 0.665 - ETA: 1:00 - loss: 0.8138 - acc: 0.664 - ETA: 1:00 - loss: 0.8136 - acc: 0.665 - ETA: 59s - loss: 0.8136 - acc: 0.665 - ETA: 59s - loss: 0.8134 - acc: 0.66 - ETA: 58s - loss: 0.8134 - acc: 0.66 - ETA: 58s - loss: 0.8134 - acc: 0.66 - ETA: 57s - loss: 0.8134 - acc: 0.66 - ETA: 57s - loss: 0.8132 - acc: 0.66 - ETA: 57s - loss: 0.8131 - acc: 0.66 - ETA: 56s - loss: 0.8132 - acc: 0.66 - ETA: 56s - loss: 0.8133 - acc: 0.66 - ETA: 55s - loss: 0.8130 - acc: 0.66 - ETA: 55s - loss: 0.8129 - acc: 0.66 - ETA: 54s - loss: 0.8131 - acc: 0.66 - ETA: 54s - loss: 0.8130 - acc: 0.66 - ETA: 54s - loss: 0.8129 - acc: 0.66 - ETA: 53s - loss: 0.8129 - acc: 0.66 - ETA: 53s - loss: 0.8128 - acc: 0.66 - ETA: 52s - loss: 0.8128 - acc: 0.66 - ETA: 52s - loss: 0.8130 - acc: 0.66 - ETA: 51s - loss: 0.8129 - acc: 0.66 - ETA: 51s - loss: 0.8128 - acc: 0.66 - ETA: 50s - loss: 0.8127 - acc: 0.66 - ETA: 50s - loss: 0.8127 - acc: 0.66 - ETA: 49s - loss: 0.8127 - acc: 0.66 - ETA: 49s - loss: 0.8127 - acc: 0.66 - ETA: 48s - loss: 0.8127 - acc: 0.66 - ETA: 48s - loss: 0.8128 - acc: 0.66 - ETA: 48s - loss: 0.8127 - acc: 0.66 - ETA: 47s - loss: 0.8128 - acc: 0.66 - ETA: 47s - loss: 0.8129 - acc: 0.66 - ETA: 46s - loss: 0.8131 - acc: 0.66 - ETA: 46s - loss: 0.8129 - acc: 0.66 - ETA: 45s - loss: 0.8129 - acc: 0.66 - ETA: 45s - loss: 0.8126 - acc: 0.66 - ETA: 44s - loss: 0.8127 - acc: 0.66 - ETA: 44s - loss: 0.8125 - acc: 0.66 - ETA: 43s - loss: 0.8123 - acc: 0.66 - ETA: 43s - loss: 0.8122 - acc: 0.66 - ETA: 42s - loss: 0.8123 - acc: 0.66 - ETA: 42s - loss: 0.8121 - acc: 0.66 - ETA: 41s - loss: 0.8121 - acc: 0.66 - ETA: 41s - loss: 0.8121 - acc: 0.66 - ETA: 41s - loss: 0.8121 - acc: 0.66 - ETA: 40s - loss: 0.8119 - acc: 0.66 - ETA: 40s - loss: 0.8119 - acc: 0.66 - ETA: 39s - loss: 0.8117 - acc: 0.66 - ETA: 39s - loss: 0.8117 - acc: 0.66 - ETA: 38s - loss: 0.8117 - acc: 0.66 - ETA: 38s - loss: 0.8118 - acc: 0.66 - ETA: 37s - loss: 0.8118 - acc: 0.66 - ETA: 37s - loss: 0.8118 - acc: 0.66 - ETA: 36s - loss: 0.8116 - acc: 0.66 - ETA: 36s - loss: 0.8116 - acc: 0.66 - ETA: 35s - loss: 0.8120 - acc: 0.66 - ETA: 35s - loss: 0.8120 - acc: 0.6658"
     ]
    },
    {
     "name": "stdout",
     "output_type": "stream",
     "text": [
      "124848/124848 [==============================] - ETA: 35s - loss: 0.8118 - acc: 0.66 - ETA: 34s - loss: 0.8118 - acc: 0.66 - ETA: 34s - loss: 0.8118 - acc: 0.66 - ETA: 33s - loss: 0.8118 - acc: 0.66 - ETA: 33s - loss: 0.8118 - acc: 0.66 - ETA: 32s - loss: 0.8116 - acc: 0.66 - ETA: 32s - loss: 0.8114 - acc: 0.66 - ETA: 31s - loss: 0.8115 - acc: 0.66 - ETA: 31s - loss: 0.8112 - acc: 0.66 - ETA: 30s - loss: 0.8112 - acc: 0.66 - ETA: 30s - loss: 0.8111 - acc: 0.66 - ETA: 29s - loss: 0.8113 - acc: 0.66 - ETA: 29s - loss: 0.8113 - acc: 0.66 - ETA: 28s - loss: 0.8114 - acc: 0.66 - ETA: 28s - loss: 0.8115 - acc: 0.66 - ETA: 28s - loss: 0.8116 - acc: 0.66 - ETA: 27s - loss: 0.8116 - acc: 0.66 - ETA: 27s - loss: 0.8117 - acc: 0.66 - ETA: 26s - loss: 0.8116 - acc: 0.66 - ETA: 26s - loss: 0.8117 - acc: 0.66 - ETA: 25s - loss: 0.8118 - acc: 0.66 - ETA: 25s - loss: 0.8118 - acc: 0.66 - ETA: 24s - loss: 0.8116 - acc: 0.66 - ETA: 24s - loss: 0.8114 - acc: 0.66 - ETA: 23s - loss: 0.8114 - acc: 0.66 - ETA: 23s - loss: 0.8112 - acc: 0.66 - ETA: 22s - loss: 0.8110 - acc: 0.66 - ETA: 22s - loss: 0.8110 - acc: 0.66 - ETA: 22s - loss: 0.8111 - acc: 0.66 - ETA: 21s - loss: 0.8110 - acc: 0.66 - ETA: 21s - loss: 0.8111 - acc: 0.66 - ETA: 20s - loss: 0.8110 - acc: 0.66 - ETA: 20s - loss: 0.8111 - acc: 0.66 - ETA: 19s - loss: 0.8110 - acc: 0.66 - ETA: 19s - loss: 0.8110 - acc: 0.66 - ETA: 18s - loss: 0.8110 - acc: 0.66 - ETA: 18s - loss: 0.8109 - acc: 0.66 - ETA: 17s - loss: 0.8109 - acc: 0.66 - ETA: 17s - loss: 0.8108 - acc: 0.66 - ETA: 16s - loss: 0.8107 - acc: 0.66 - ETA: 16s - loss: 0.8107 - acc: 0.66 - ETA: 16s - loss: 0.8106 - acc: 0.66 - ETA: 15s - loss: 0.8106 - acc: 0.66 - ETA: 15s - loss: 0.8106 - acc: 0.66 - ETA: 14s - loss: 0.8106 - acc: 0.66 - ETA: 14s - loss: 0.8107 - acc: 0.66 - ETA: 13s - loss: 0.8107 - acc: 0.66 - ETA: 13s - loss: 0.8108 - acc: 0.66 - ETA: 12s - loss: 0.8108 - acc: 0.66 - ETA: 12s - loss: 0.8109 - acc: 0.66 - ETA: 11s - loss: 0.8109 - acc: 0.66 - ETA: 11s - loss: 0.8107 - acc: 0.66 - ETA: 10s - loss: 0.8107 - acc: 0.66 - ETA: 10s - loss: 0.8108 - acc: 0.66 - ETA: 9s - loss: 0.8107 - acc: 0.6662 - ETA: 9s - loss: 0.8108 - acc: 0.666 - ETA: 9s - loss: 0.8108 - acc: 0.666 - ETA: 8s - loss: 0.8107 - acc: 0.666 - ETA: 8s - loss: 0.8106 - acc: 0.666 - ETA: 7s - loss: 0.8105 - acc: 0.666 - ETA: 7s - loss: 0.8105 - acc: 0.666 - ETA: 6s - loss: 0.8104 - acc: 0.666 - ETA: 6s - loss: 0.8105 - acc: 0.666 - ETA: 5s - loss: 0.8103 - acc: 0.666 - ETA: 5s - loss: 0.8103 - acc: 0.666 - ETA: 4s - loss: 0.8102 - acc: 0.666 - ETA: 4s - loss: 0.8101 - acc: 0.666 - ETA: 4s - loss: 0.8100 - acc: 0.666 - ETA: 3s - loss: 0.8100 - acc: 0.666 - ETA: 3s - loss: 0.8099 - acc: 0.666 - ETA: 2s - loss: 0.8099 - acc: 0.666 - ETA: 2s - loss: 0.8101 - acc: 0.666 - ETA: 1s - loss: 0.8100 - acc: 0.666 - ETA: 1s - loss: 0.8100 - acc: 0.666 - ETA: 0s - loss: 0.8101 - acc: 0.666 - ETA: 0s - loss: 0.8101 - acc: 0.666 - 237s 2ms/step - loss: 0.8100 - acc: 0.6668 - val_loss: 0.8085 - val_acc: 0.6663\n",
      "Epoch 3/6\n"
     ]
    },
    {
     "name": "stdout",
     "output_type": "stream",
     "text": [
      " 52224/124848 [===========>..................] - ETA: 3:49 - loss: 0.6903 - acc: 0.703 - ETA: 3:53 - loss: 0.7078 - acc: 0.697 - ETA: 3:49 - loss: 0.7218 - acc: 0.699 - ETA: 3:48 - loss: 0.7281 - acc: 0.697 - ETA: 3:48 - loss: 0.7094 - acc: 0.707 - ETA: 3:47 - loss: 0.6980 - acc: 0.715 - ETA: 3:45 - loss: 0.7007 - acc: 0.712 - ETA: 3:43 - loss: 0.7099 - acc: 0.704 - ETA: 3:42 - loss: 0.7159 - acc: 0.700 - ETA: 3:40 - loss: 0.7172 - acc: 0.701 - ETA: 3:37 - loss: 0.7126 - acc: 0.703 - ETA: 3:35 - loss: 0.7199 - acc: 0.702 - ETA: 3:35 - loss: 0.7242 - acc: 0.701 - ETA: 3:34 - loss: 0.7249 - acc: 0.698 - ETA: 3:32 - loss: 0.7281 - acc: 0.700 - ETA: 3:32 - loss: 0.7270 - acc: 0.701 - ETA: 3:31 - loss: 0.7223 - acc: 0.701 - ETA: 3:30 - loss: 0.7216 - acc: 0.702 - ETA: 3:29 - loss: 0.7226 - acc: 0.700 - ETA: 3:29 - loss: 0.7218 - acc: 0.700 - ETA: 3:28 - loss: 0.7261 - acc: 0.697 - ETA: 3:26 - loss: 0.7259 - acc: 0.696 - ETA: 3:26 - loss: 0.7260 - acc: 0.696 - ETA: 3:26 - loss: 0.7260 - acc: 0.697 - ETA: 3:25 - loss: 0.7259 - acc: 0.697 - ETA: 3:25 - loss: 0.7289 - acc: 0.696 - ETA: 3:25 - loss: 0.7298 - acc: 0.696 - ETA: 3:25 - loss: 0.7307 - acc: 0.697 - ETA: 3:25 - loss: 0.7310 - acc: 0.697 - ETA: 3:24 - loss: 0.7329 - acc: 0.695 - ETA: 3:25 - loss: 0.7337 - acc: 0.694 - ETA: 3:25 - loss: 0.7326 - acc: 0.694 - ETA: 3:24 - loss: 0.7314 - acc: 0.695 - ETA: 3:24 - loss: 0.7322 - acc: 0.694 - ETA: 3:24 - loss: 0.7326 - acc: 0.694 - ETA: 3:24 - loss: 0.7338 - acc: 0.693 - ETA: 3:23 - loss: 0.7350 - acc: 0.692 - ETA: 3:23 - loss: 0.7319 - acc: 0.694 - ETA: 3:23 - loss: 0.7322 - acc: 0.693 - ETA: 3:23 - loss: 0.7336 - acc: 0.692 - ETA: 3:22 - loss: 0.7341 - acc: 0.693 - ETA: 3:22 - loss: 0.7328 - acc: 0.693 - ETA: 3:22 - loss: 0.7317 - acc: 0.693 - ETA: 3:21 - loss: 0.7330 - acc: 0.693 - ETA: 3:20 - loss: 0.7323 - acc: 0.694 - ETA: 3:20 - loss: 0.7320 - acc: 0.695 - ETA: 3:19 - loss: 0.7321 - acc: 0.694 - ETA: 3:18 - loss: 0.7320 - acc: 0.694 - ETA: 3:18 - loss: 0.7333 - acc: 0.693 - ETA: 3:17 - loss: 0.7343 - acc: 0.693 - ETA: 3:16 - loss: 0.7341 - acc: 0.693 - ETA: 3:16 - loss: 0.7337 - acc: 0.694 - ETA: 3:15 - loss: 0.7337 - acc: 0.694 - ETA: 3:14 - loss: 0.7343 - acc: 0.694 - ETA: 3:14 - loss: 0.7339 - acc: 0.693 - ETA: 3:13 - loss: 0.7339 - acc: 0.694 - ETA: 3:13 - loss: 0.7337 - acc: 0.694 - ETA: 3:12 - loss: 0.7335 - acc: 0.694 - ETA: 3:11 - loss: 0.7331 - acc: 0.694 - ETA: 3:11 - loss: 0.7319 - acc: 0.695 - ETA: 3:11 - loss: 0.7318 - acc: 0.696 - ETA: 3:10 - loss: 0.7312 - acc: 0.696 - ETA: 3:10 - loss: 0.7330 - acc: 0.695 - ETA: 3:10 - loss: 0.7334 - acc: 0.696 - ETA: 3:09 - loss: 0.7342 - acc: 0.695 - ETA: 3:09 - loss: 0.7340 - acc: 0.695 - ETA: 3:09 - loss: 0.7339 - acc: 0.695 - ETA: 3:08 - loss: 0.7337 - acc: 0.695 - ETA: 3:08 - loss: 0.7332 - acc: 0.695 - ETA: 3:07 - loss: 0.7332 - acc: 0.695 - ETA: 3:07 - loss: 0.7321 - acc: 0.696 - ETA: 3:07 - loss: 0.7321 - acc: 0.696 - ETA: 3:06 - loss: 0.7327 - acc: 0.695 - ETA: 3:06 - loss: 0.7342 - acc: 0.695 - ETA: 3:06 - loss: 0.7341 - acc: 0.695 - ETA: 3:05 - loss: 0.7337 - acc: 0.695 - ETA: 3:05 - loss: 0.7327 - acc: 0.696 - ETA: 3:05 - loss: 0.7325 - acc: 0.696 - ETA: 3:04 - loss: 0.7328 - acc: 0.696 - ETA: 3:03 - loss: 0.7330 - acc: 0.696 - ETA: 3:03 - loss: 0.7327 - acc: 0.696 - ETA: 3:02 - loss: 0.7337 - acc: 0.696 - ETA: 3:02 - loss: 0.7333 - acc: 0.696 - ETA: 3:01 - loss: 0.7333 - acc: 0.696 - ETA: 3:01 - loss: 0.7326 - acc: 0.696 - ETA: 3:00 - loss: 0.7328 - acc: 0.696 - ETA: 3:00 - loss: 0.7329 - acc: 0.696 - ETA: 2:59 - loss: 0.7336 - acc: 0.696 - ETA: 2:59 - loss: 0.7329 - acc: 0.696 - ETA: 2:58 - loss: 0.7331 - acc: 0.696 - ETA: 2:57 - loss: 0.7326 - acc: 0.696 - ETA: 2:57 - loss: 0.7333 - acc: 0.696 - ETA: 2:56 - loss: 0.7338 - acc: 0.696 - ETA: 2:56 - loss: 0.7333 - acc: 0.696 - ETA: 2:55 - loss: 0.7338 - acc: 0.696 - ETA: 2:55 - loss: 0.7344 - acc: 0.695 - ETA: 2:54 - loss: 0.7339 - acc: 0.696 - ETA: 2:54 - loss: 0.7345 - acc: 0.695 - ETA: 2:54 - loss: 0.7340 - acc: 0.695 - ETA: 2:54 - loss: 0.7340 - acc: 0.695 - ETA: 2:53 - loss: 0.7336 - acc: 0.696 - ETA: 2:53 - loss: 0.7339 - acc: 0.696 - ETA: 2:53 - loss: 0.7337 - acc: 0.695 - ETA: 2:52 - loss: 0.7348 - acc: 0.695 - ETA: 2:52 - loss: 0.7345 - acc: 0.695 - ETA: 2:52 - loss: 0.7343 - acc: 0.695 - ETA: 2:51 - loss: 0.7334 - acc: 0.696 - ETA: 2:51 - loss: 0.7331 - acc: 0.696 - ETA: 2:51 - loss: 0.7332 - acc: 0.696 - ETA: 2:50 - loss: 0.7333 - acc: 0.696 - ETA: 2:50 - loss: 0.7325 - acc: 0.696 - ETA: 2:49 - loss: 0.7323 - acc: 0.696 - ETA: 2:49 - loss: 0.7321 - acc: 0.696 - ETA: 2:49 - loss: 0.7325 - acc: 0.696 - ETA: 2:48 - loss: 0.7325 - acc: 0.696 - ETA: 2:48 - loss: 0.7324 - acc: 0.696 - ETA: 2:47 - loss: 0.7324 - acc: 0.696 - ETA: 2:47 - loss: 0.7316 - acc: 0.696 - ETA: 2:46 - loss: 0.7314 - acc: 0.697 - ETA: 2:45 - loss: 0.7314 - acc: 0.697 - ETA: 2:45 - loss: 0.7312 - acc: 0.697 - ETA: 2:44 - loss: 0.7311 - acc: 0.697 - ETA: 2:44 - loss: 0.7314 - acc: 0.696 - ETA: 2:43 - loss: 0.7315 - acc: 0.696 - ETA: 2:43 - loss: 0.7311 - acc: 0.696 - ETA: 2:42 - loss: 0.7322 - acc: 0.696 - ETA: 2:42 - loss: 0.7330 - acc: 0.696 - ETA: 2:41 - loss: 0.7324 - acc: 0.696 - ETA: 2:41 - loss: 0.7331 - acc: 0.696 - ETA: 2:40 - loss: 0.7330 - acc: 0.696 - ETA: 2:40 - loss: 0.7332 - acc: 0.696 - ETA: 2:39 - loss: 0.7326 - acc: 0.696 - ETA: 2:39 - loss: 0.7324 - acc: 0.696 - ETA: 2:39 - loss: 0.7327 - acc: 0.696 - ETA: 2:38 - loss: 0.7325 - acc: 0.696 - ETA: 2:38 - loss: 0.7326 - acc: 0.696 - ETA: 2:37 - loss: 0.7318 - acc: 0.696 - ETA: 2:37 - loss: 0.7316 - acc: 0.696 - ETA: 2:37 - loss: 0.7313 - acc: 0.696 - ETA: 2:36 - loss: 0.7317 - acc: 0.695 - ETA: 2:36 - loss: 0.7316 - acc: 0.695 - ETA: 2:35 - loss: 0.7319 - acc: 0.695 - ETA: 2:35 - loss: 0.7320 - acc: 0.695 - ETA: 2:34 - loss: 0.7320 - acc: 0.695 - ETA: 2:34 - loss: 0.7318 - acc: 0.695 - ETA: 2:34 - loss: 0.7318 - acc: 0.695 - ETA: 2:33 - loss: 0.7318 - acc: 0.695 - ETA: 2:33 - loss: 0.7315 - acc: 0.695 - ETA: 2:32 - loss: 0.7311 - acc: 0.696 - ETA: 2:32 - loss: 0.7315 - acc: 0.696 - ETA: 2:31 - loss: 0.7312 - acc: 0.696 - ETA: 2:31 - loss: 0.7309 - acc: 0.696 - ETA: 2:30 - loss: 0.7307 - acc: 0.696 - ETA: 2:30 - loss: 0.7308 - acc: 0.696 - ETA: 2:29 - loss: 0.7304 - acc: 0.697 - ETA: 2:29 - loss: 0.7305 - acc: 0.696 - ETA: 2:28 - loss: 0.7305 - acc: 0.696 - ETA: 2:28 - loss: 0.7311 - acc: 0.696 - ETA: 2:27 - loss: 0.7316 - acc: 0.696 - ETA: 2:27 - loss: 0.7316 - acc: 0.696 - ETA: 2:26 - loss: 0.7320 - acc: 0.695 - ETA: 2:26 - loss: 0.7317 - acc: 0.695 - ETA: 2:25 - loss: 0.7320 - acc: 0.695 - ETA: 2:25 - loss: 0.7321 - acc: 0.695 - ETA: 2:24 - loss: 0.7322 - acc: 0.695 - ETA: 2:24 - loss: 0.7319 - acc: 0.695 - ETA: 2:24 - loss: 0.7319 - acc: 0.695 - ETA: 2:23 - loss: 0.7314 - acc: 0.695 - ETA: 2:23 - loss: 0.7311 - acc: 0.696 - ETA: 2:22 - loss: 0.7310 - acc: 0.695 - ETA: 2:22 - loss: 0.7313 - acc: 0.695 - ETA: 2:21 - loss: 0.7315 - acc: 0.695 - ETA: 2:21 - loss: 0.7314 - acc: 0.695 - ETA: 2:21 - loss: 0.7313 - acc: 0.695 - ETA: 2:20 - loss: 0.7311 - acc: 0.695 - ETA: 2:20 - loss: 0.7311 - acc: 0.695 - ETA: 2:19 - loss: 0.7309 - acc: 0.695 - ETA: 2:19 - loss: 0.7311 - acc: 0.695 - ETA: 2:19 - loss: 0.7310 - acc: 0.695 - ETA: 2:18 - loss: 0.7315 - acc: 0.695 - ETA: 2:18 - loss: 0.7321 - acc: 0.695 - ETA: 2:17 - loss: 0.7317 - acc: 0.695 - ETA: 2:17 - loss: 0.7320 - acc: 0.695 - ETA: 2:16 - loss: 0.7323 - acc: 0.695 - ETA: 2:16 - loss: 0.7318 - acc: 0.695 - ETA: 2:16 - loss: 0.7318 - acc: 0.695 - ETA: 2:15 - loss: 0.7321 - acc: 0.695 - ETA: 2:15 - loss: 0.7322 - acc: 0.695 - ETA: 2:14 - loss: 0.7325 - acc: 0.695 - ETA: 2:14 - loss: 0.7324 - acc: 0.695 - ETA: 2:13 - loss: 0.7318 - acc: 0.695 - ETA: 2:13 - loss: 0.7317 - acc: 0.695 - ETA: 2:12 - loss: 0.7317 - acc: 0.695 - ETA: 2:12 - loss: 0.7319 - acc: 0.695 - ETA: 2:11 - loss: 0.7315 - acc: 0.695 - ETA: 2:11 - loss: 0.7320 - acc: 0.695 - ETA: 2:10 - loss: 0.7318 - acc: 0.695 - ETA: 2:10 - loss: 0.7319 - acc: 0.695 - ETA: 2:09 - loss: 0.7317 - acc: 0.695 - ETA: 2:09 - loss: 0.7322 - acc: 0.695 - ETA: 2:08 - loss: 0.7322 - acc: 0.695 - ETA: 2:08 - loss: 0.7324 - acc: 0.695 - ETA: 2:08 - loss: 0.7326 - acc: 0.695 - ETA: 2:07 - loss: 0.7327 - acc: 0.6954105216/124848 [========================>.....] - ETA: 2:07 - loss: 0.7328 - acc: 0.695 - ETA: 2:06 - loss: 0.7330 - acc: 0.695 - ETA: 2:06 - loss: 0.7332 - acc: 0.695 - ETA: 2:05 - loss: 0.7338 - acc: 0.694 - ETA: 2:05 - loss: 0.7340 - acc: 0.694 - ETA: 2:05 - loss: 0.7340 - acc: 0.694 - ETA: 2:04 - loss: 0.7338 - acc: 0.694 - ETA: 2:04 - loss: 0.7338 - acc: 0.694 - ETA: 2:03 - loss: 0.7339 - acc: 0.694 - ETA: 2:03 - loss: 0.7337 - acc: 0.694 - ETA: 2:02 - loss: 0.7339 - acc: 0.694 - ETA: 2:02 - loss: 0.7341 - acc: 0.694 - ETA: 2:01 - loss: 0.7340 - acc: 0.694 - ETA: 2:01 - loss: 0.7344 - acc: 0.694 - ETA: 2:01 - loss: 0.7340 - acc: 0.694 - ETA: 2:00 - loss: 0.7342 - acc: 0.694 - ETA: 2:00 - loss: 0.7341 - acc: 0.694 - ETA: 1:59 - loss: 0.7341 - acc: 0.694 - ETA: 1:59 - loss: 0.7343 - acc: 0.694 - ETA: 1:58 - loss: 0.7348 - acc: 0.694 - ETA: 1:58 - loss: 0.7351 - acc: 0.694 - ETA: 1:57 - loss: 0.7350 - acc: 0.694 - ETA: 1:57 - loss: 0.7352 - acc: 0.693 - ETA: 1:56 - loss: 0.7353 - acc: 0.693 - ETA: 1:56 - loss: 0.7356 - acc: 0.693 - ETA: 1:55 - loss: 0.7357 - acc: 0.693 - ETA: 1:55 - loss: 0.7354 - acc: 0.693 - ETA: 1:54 - loss: 0.7356 - acc: 0.693 - ETA: 1:54 - loss: 0.7358 - acc: 0.693 - ETA: 1:54 - loss: 0.7359 - acc: 0.693 - ETA: 1:53 - loss: 0.7357 - acc: 0.693 - ETA: 1:53 - loss: 0.7355 - acc: 0.693 - ETA: 1:52 - loss: 0.7355 - acc: 0.693 - ETA: 1:52 - loss: 0.7353 - acc: 0.694 - ETA: 1:51 - loss: 0.7355 - acc: 0.694 - ETA: 1:51 - loss: 0.7354 - acc: 0.693 - ETA: 1:50 - loss: 0.7354 - acc: 0.694 - ETA: 1:50 - loss: 0.7355 - acc: 0.693 - ETA: 1:49 - loss: 0.7358 - acc: 0.693 - ETA: 1:49 - loss: 0.7359 - acc: 0.693 - ETA: 1:49 - loss: 0.7363 - acc: 0.693 - ETA: 1:48 - loss: 0.7363 - acc: 0.693 - ETA: 1:48 - loss: 0.7361 - acc: 0.693 - ETA: 1:47 - loss: 0.7361 - acc: 0.694 - ETA: 1:47 - loss: 0.7364 - acc: 0.693 - ETA: 1:46 - loss: 0.7366 - acc: 0.693 - ETA: 1:46 - loss: 0.7363 - acc: 0.694 - ETA: 1:46 - loss: 0.7364 - acc: 0.694 - ETA: 1:45 - loss: 0.7367 - acc: 0.694 - ETA: 1:45 - loss: 0.7366 - acc: 0.694 - ETA: 1:44 - loss: 0.7366 - acc: 0.694 - ETA: 1:44 - loss: 0.7366 - acc: 0.694 - ETA: 1:43 - loss: 0.7367 - acc: 0.694 - ETA: 1:43 - loss: 0.7368 - acc: 0.694 - ETA: 1:43 - loss: 0.7368 - acc: 0.694 - ETA: 1:42 - loss: 0.7367 - acc: 0.694 - ETA: 1:42 - loss: 0.7364 - acc: 0.694 - ETA: 1:41 - loss: 0.7365 - acc: 0.694 - ETA: 1:41 - loss: 0.7362 - acc: 0.694 - ETA: 1:40 - loss: 0.7366 - acc: 0.694 - ETA: 1:40 - loss: 0.7368 - acc: 0.694 - ETA: 1:39 - loss: 0.7365 - acc: 0.694 - ETA: 1:39 - loss: 0.7364 - acc: 0.694 - ETA: 1:38 - loss: 0.7364 - acc: 0.694 - ETA: 1:38 - loss: 0.7364 - acc: 0.694 - ETA: 1:37 - loss: 0.7362 - acc: 0.694 - ETA: 1:37 - loss: 0.7359 - acc: 0.694 - ETA: 1:36 - loss: 0.7356 - acc: 0.694 - ETA: 1:36 - loss: 0.7355 - acc: 0.694 - ETA: 1:35 - loss: 0.7357 - acc: 0.694 - ETA: 1:35 - loss: 0.7362 - acc: 0.694 - ETA: 1:35 - loss: 0.7365 - acc: 0.694 - ETA: 1:34 - loss: 0.7365 - acc: 0.694 - ETA: 1:34 - loss: 0.7365 - acc: 0.694 - ETA: 1:33 - loss: 0.7364 - acc: 0.694 - ETA: 1:33 - loss: 0.7365 - acc: 0.693 - ETA: 1:32 - loss: 0.7365 - acc: 0.693 - ETA: 1:32 - loss: 0.7365 - acc: 0.693 - ETA: 1:32 - loss: 0.7364 - acc: 0.693 - ETA: 1:31 - loss: 0.7366 - acc: 0.693 - ETA: 1:31 - loss: 0.7365 - acc: 0.693 - ETA: 1:30 - loss: 0.7369 - acc: 0.693 - ETA: 1:30 - loss: 0.7367 - acc: 0.694 - ETA: 1:29 - loss: 0.7367 - acc: 0.694 - ETA: 1:29 - loss: 0.7367 - acc: 0.694 - ETA: 1:28 - loss: 0.7364 - acc: 0.694 - ETA: 1:28 - loss: 0.7367 - acc: 0.694 - ETA: 1:28 - loss: 0.7369 - acc: 0.694 - ETA: 1:27 - loss: 0.7368 - acc: 0.694 - ETA: 1:27 - loss: 0.7368 - acc: 0.694 - ETA: 1:26 - loss: 0.7369 - acc: 0.694 - ETA: 1:26 - loss: 0.7369 - acc: 0.694 - ETA: 1:25 - loss: 0.7369 - acc: 0.694 - ETA: 1:25 - loss: 0.7371 - acc: 0.694 - ETA: 1:24 - loss: 0.7370 - acc: 0.694 - ETA: 1:24 - loss: 0.7368 - acc: 0.694 - ETA: 1:23 - loss: 0.7370 - acc: 0.694 - ETA: 1:23 - loss: 0.7371 - acc: 0.694 - ETA: 1:22 - loss: 0.7369 - acc: 0.694 - ETA: 1:22 - loss: 0.7371 - acc: 0.694 - ETA: 1:21 - loss: 0.7373 - acc: 0.694 - ETA: 1:21 - loss: 0.7372 - acc: 0.694 - ETA: 1:21 - loss: 0.7372 - acc: 0.694 - ETA: 1:20 - loss: 0.7373 - acc: 0.694 - ETA: 1:20 - loss: 0.7372 - acc: 0.694 - ETA: 1:19 - loss: 0.7372 - acc: 0.694 - ETA: 1:19 - loss: 0.7377 - acc: 0.694 - ETA: 1:18 - loss: 0.7375 - acc: 0.694 - ETA: 1:18 - loss: 0.7376 - acc: 0.694 - ETA: 1:18 - loss: 0.7378 - acc: 0.693 - ETA: 1:17 - loss: 0.7378 - acc: 0.694 - ETA: 1:17 - loss: 0.7377 - acc: 0.694 - ETA: 1:16 - loss: 0.7378 - acc: 0.694 - ETA: 1:16 - loss: 0.7378 - acc: 0.693 - ETA: 1:15 - loss: 0.7379 - acc: 0.694 - ETA: 1:15 - loss: 0.7380 - acc: 0.693 - ETA: 1:15 - loss: 0.7379 - acc: 0.693 - ETA: 1:14 - loss: 0.7379 - acc: 0.693 - ETA: 1:14 - loss: 0.7382 - acc: 0.693 - ETA: 1:13 - loss: 0.7382 - acc: 0.693 - ETA: 1:13 - loss: 0.7383 - acc: 0.693 - ETA: 1:12 - loss: 0.7383 - acc: 0.693 - ETA: 1:12 - loss: 0.7382 - acc: 0.693 - ETA: 1:11 - loss: 0.7380 - acc: 0.693 - ETA: 1:11 - loss: 0.7379 - acc: 0.693 - ETA: 1:11 - loss: 0.7380 - acc: 0.693 - ETA: 1:10 - loss: 0.7383 - acc: 0.693 - ETA: 1:10 - loss: 0.7384 - acc: 0.693 - ETA: 1:09 - loss: 0.7383 - acc: 0.693 - ETA: 1:09 - loss: 0.7383 - acc: 0.693 - ETA: 1:08 - loss: 0.7384 - acc: 0.693 - ETA: 1:08 - loss: 0.7384 - acc: 0.693 - ETA: 1:07 - loss: 0.7385 - acc: 0.693 - ETA: 1:07 - loss: 0.7386 - acc: 0.693 - ETA: 1:06 - loss: 0.7386 - acc: 0.693 - ETA: 1:06 - loss: 0.7385 - acc: 0.693 - ETA: 1:06 - loss: 0.7388 - acc: 0.693 - ETA: 1:05 - loss: 0.7391 - acc: 0.693 - ETA: 1:05 - loss: 0.7390 - acc: 0.693 - ETA: 1:04 - loss: 0.7389 - acc: 0.693 - ETA: 1:04 - loss: 0.7389 - acc: 0.693 - ETA: 1:03 - loss: 0.7389 - acc: 0.693 - ETA: 1:03 - loss: 0.7387 - acc: 0.693 - ETA: 1:02 - loss: 0.7388 - acc: 0.693 - ETA: 1:02 - loss: 0.7384 - acc: 0.693 - ETA: 1:01 - loss: 0.7386 - acc: 0.693 - ETA: 1:01 - loss: 0.7384 - acc: 0.693 - ETA: 1:01 - loss: 0.7383 - acc: 0.693 - ETA: 1:00 - loss: 0.7382 - acc: 0.693 - ETA: 1:00 - loss: 0.7383 - acc: 0.693 - ETA: 59s - loss: 0.7383 - acc: 0.693 - ETA: 59s - loss: 0.7381 - acc: 0.69 - ETA: 58s - loss: 0.7382 - acc: 0.69 - ETA: 58s - loss: 0.7380 - acc: 0.69 - ETA: 57s - loss: 0.7379 - acc: 0.69 - ETA: 57s - loss: 0.7380 - acc: 0.69 - ETA: 57s - loss: 0.7381 - acc: 0.69 - ETA: 56s - loss: 0.7380 - acc: 0.69 - ETA: 56s - loss: 0.7380 - acc: 0.69 - ETA: 55s - loss: 0.7381 - acc: 0.69 - ETA: 55s - loss: 0.7383 - acc: 0.69 - ETA: 54s - loss: 0.7385 - acc: 0.69 - ETA: 54s - loss: 0.7385 - acc: 0.69 - ETA: 53s - loss: 0.7385 - acc: 0.69 - ETA: 53s - loss: 0.7384 - acc: 0.69 - ETA: 53s - loss: 0.7385 - acc: 0.69 - ETA: 52s - loss: 0.7387 - acc: 0.69 - ETA: 52s - loss: 0.7386 - acc: 0.69 - ETA: 51s - loss: 0.7385 - acc: 0.69 - ETA: 51s - loss: 0.7385 - acc: 0.69 - ETA: 50s - loss: 0.7383 - acc: 0.69 - ETA: 50s - loss: 0.7384 - acc: 0.69 - ETA: 49s - loss: 0.7382 - acc: 0.69 - ETA: 49s - loss: 0.7382 - acc: 0.69 - ETA: 48s - loss: 0.7381 - acc: 0.69 - ETA: 48s - loss: 0.7381 - acc: 0.69 - ETA: 48s - loss: 0.7379 - acc: 0.69 - ETA: 47s - loss: 0.7379 - acc: 0.69 - ETA: 47s - loss: 0.7378 - acc: 0.69 - ETA: 46s - loss: 0.7377 - acc: 0.69 - ETA: 46s - loss: 0.7378 - acc: 0.69 - ETA: 45s - loss: 0.7382 - acc: 0.69 - ETA: 45s - loss: 0.7383 - acc: 0.69 - ETA: 44s - loss: 0.7383 - acc: 0.69 - ETA: 44s - loss: 0.7384 - acc: 0.69 - ETA: 44s - loss: 0.7384 - acc: 0.69 - ETA: 43s - loss: 0.7387 - acc: 0.69 - ETA: 43s - loss: 0.7388 - acc: 0.69 - ETA: 42s - loss: 0.7389 - acc: 0.69 - ETA: 42s - loss: 0.7387 - acc: 0.69 - ETA: 41s - loss: 0.7388 - acc: 0.69 - ETA: 41s - loss: 0.7390 - acc: 0.69 - ETA: 41s - loss: 0.7390 - acc: 0.69 - ETA: 40s - loss: 0.7391 - acc: 0.69 - ETA: 40s - loss: 0.7391 - acc: 0.69 - ETA: 39s - loss: 0.7391 - acc: 0.69 - ETA: 39s - loss: 0.7389 - acc: 0.69 - ETA: 38s - loss: 0.7388 - acc: 0.69 - ETA: 38s - loss: 0.7387 - acc: 0.69 - ETA: 37s - loss: 0.7388 - acc: 0.69 - ETA: 37s - loss: 0.7391 - acc: 0.69 - ETA: 36s - loss: 0.7391 - acc: 0.69 - ETA: 36s - loss: 0.7392 - acc: 0.69 - ETA: 36s - loss: 0.7392 - acc: 0.69 - ETA: 35s - loss: 0.7392 - acc: 0.69 - ETA: 35s - loss: 0.7392 - acc: 0.69 - ETA: 34s - loss: 0.7393 - acc: 0.6936124848/124848 [==============================] - ETA: 34s - loss: 0.7393 - acc: 0.69 - ETA: 33s - loss: 0.7393 - acc: 0.69 - ETA: 33s - loss: 0.7392 - acc: 0.69 - ETA: 32s - loss: 0.7391 - acc: 0.69 - ETA: 32s - loss: 0.7391 - acc: 0.69 - ETA: 31s - loss: 0.7391 - acc: 0.69 - ETA: 31s - loss: 0.7390 - acc: 0.69 - ETA: 31s - loss: 0.7390 - acc: 0.69 - ETA: 30s - loss: 0.7391 - acc: 0.69 - ETA: 30s - loss: 0.7391 - acc: 0.69 - ETA: 29s - loss: 0.7391 - acc: 0.69 - ETA: 29s - loss: 0.7392 - acc: 0.69 - ETA: 28s - loss: 0.7394 - acc: 0.69 - ETA: 28s - loss: 0.7394 - acc: 0.69 - ETA: 27s - loss: 0.7395 - acc: 0.69 - ETA: 27s - loss: 0.7394 - acc: 0.69 - ETA: 27s - loss: 0.7394 - acc: 0.69 - ETA: 26s - loss: 0.7397 - acc: 0.69 - ETA: 26s - loss: 0.7397 - acc: 0.69 - ETA: 25s - loss: 0.7396 - acc: 0.69 - ETA: 25s - loss: 0.7398 - acc: 0.69 - ETA: 24s - loss: 0.7396 - acc: 0.69 - ETA: 24s - loss: 0.7396 - acc: 0.69 - ETA: 23s - loss: 0.7397 - acc: 0.69 - ETA: 23s - loss: 0.7397 - acc: 0.69 - ETA: 22s - loss: 0.7397 - acc: 0.69 - ETA: 22s - loss: 0.7396 - acc: 0.69 - ETA: 22s - loss: 0.7396 - acc: 0.69 - ETA: 21s - loss: 0.7395 - acc: 0.69 - ETA: 21s - loss: 0.7396 - acc: 0.69 - ETA: 20s - loss: 0.7397 - acc: 0.69 - ETA: 20s - loss: 0.7399 - acc: 0.69 - ETA: 19s - loss: 0.7399 - acc: 0.69 - ETA: 19s - loss: 0.7399 - acc: 0.69 - ETA: 18s - loss: 0.7400 - acc: 0.69 - ETA: 18s - loss: 0.7400 - acc: 0.69 - ETA: 17s - loss: 0.7400 - acc: 0.69 - ETA: 17s - loss: 0.7400 - acc: 0.69 - ETA: 17s - loss: 0.7401 - acc: 0.69 - ETA: 16s - loss: 0.7401 - acc: 0.69 - ETA: 16s - loss: 0.7401 - acc: 0.69 - ETA: 15s - loss: 0.7401 - acc: 0.69 - ETA: 15s - loss: 0.7402 - acc: 0.69 - ETA: 14s - loss: 0.7400 - acc: 0.69 - ETA: 14s - loss: 0.7400 - acc: 0.69 - ETA: 13s - loss: 0.7400 - acc: 0.69 - ETA: 13s - loss: 0.7402 - acc: 0.69 - ETA: 12s - loss: 0.7402 - acc: 0.69 - ETA: 12s - loss: 0.7401 - acc: 0.69 - ETA: 12s - loss: 0.7400 - acc: 0.69 - ETA: 11s - loss: 0.7404 - acc: 0.69 - ETA: 11s - loss: 0.7404 - acc: 0.69 - ETA: 10s - loss: 0.7405 - acc: 0.69 - ETA: 10s - loss: 0.7405 - acc: 0.69 - ETA: 9s - loss: 0.7403 - acc: 0.6927 - ETA: 9s - loss: 0.7402 - acc: 0.692 - ETA: 8s - loss: 0.7403 - acc: 0.692 - ETA: 8s - loss: 0.7403 - acc: 0.692 - ETA: 7s - loss: 0.7401 - acc: 0.692 - ETA: 7s - loss: 0.7400 - acc: 0.692 - ETA: 7s - loss: 0.7400 - acc: 0.692 - ETA: 6s - loss: 0.7400 - acc: 0.692 - ETA: 6s - loss: 0.7402 - acc: 0.692 - ETA: 5s - loss: 0.7402 - acc: 0.692 - ETA: 5s - loss: 0.7402 - acc: 0.692 - ETA: 4s - loss: 0.7402 - acc: 0.692 - ETA: 4s - loss: 0.7403 - acc: 0.692 - ETA: 3s - loss: 0.7406 - acc: 0.692 - ETA: 3s - loss: 0.7405 - acc: 0.692 - ETA: 3s - loss: 0.7406 - acc: 0.692 - ETA: 2s - loss: 0.7407 - acc: 0.692 - ETA: 2s - loss: 0.7407 - acc: 0.692 - ETA: 1s - loss: 0.7407 - acc: 0.692 - ETA: 1s - loss: 0.7408 - acc: 0.692 - ETA: 0s - loss: 0.7409 - acc: 0.692 - ETA: 0s - loss: 0.7409 - acc: 0.692 - 233s 2ms/step - loss: 0.7409 - acc: 0.6920 - val_loss: 0.8060 - val_acc: 0.6726\n",
      "Epoch 4/6\n"
     ]
    },
    {
     "name": "stdout",
     "output_type": "stream",
     "text": [
      " 52224/124848 [===========>..................] - ETA: 3:30 - loss: 0.7037 - acc: 0.742 - ETA: 3:32 - loss: 0.6472 - acc: 0.773 - ETA: 3:30 - loss: 0.6774 - acc: 0.753 - ETA: 3:27 - loss: 0.6511 - acc: 0.750 - ETA: 3:28 - loss: 0.6373 - acc: 0.750 - ETA: 3:32 - loss: 0.6450 - acc: 0.744 - ETA: 3:32 - loss: 0.6488 - acc: 0.739 - ETA: 3:33 - loss: 0.6383 - acc: 0.743 - ETA: 3:34 - loss: 0.6405 - acc: 0.740 - ETA: 3:34 - loss: 0.6415 - acc: 0.741 - ETA: 3:34 - loss: 0.6415 - acc: 0.740 - ETA: 3:35 - loss: 0.6441 - acc: 0.739 - ETA: 3:36 - loss: 0.6508 - acc: 0.735 - ETA: 3:36 - loss: 0.6527 - acc: 0.734 - ETA: 3:36 - loss: 0.6544 - acc: 0.736 - ETA: 3:35 - loss: 0.6551 - acc: 0.735 - ETA: 3:36 - loss: 0.6541 - acc: 0.736 - ETA: 3:36 - loss: 0.6528 - acc: 0.734 - ETA: 3:36 - loss: 0.6518 - acc: 0.736 - ETA: 3:37 - loss: 0.6519 - acc: 0.735 - ETA: 3:37 - loss: 0.6534 - acc: 0.733 - ETA: 3:36 - loss: 0.6520 - acc: 0.735 - ETA: 3:36 - loss: 0.6516 - acc: 0.735 - ETA: 3:36 - loss: 0.6489 - acc: 0.736 - ETA: 3:36 - loss: 0.6495 - acc: 0.735 - ETA: 3:35 - loss: 0.6508 - acc: 0.734 - ETA: 3:34 - loss: 0.6524 - acc: 0.733 - ETA: 3:33 - loss: 0.6523 - acc: 0.733 - ETA: 3:32 - loss: 0.6519 - acc: 0.734 - ETA: 3:31 - loss: 0.6521 - acc: 0.734 - ETA: 3:31 - loss: 0.6539 - acc: 0.732 - ETA: 3:30 - loss: 0.6545 - acc: 0.731 - ETA: 3:29 - loss: 0.6566 - acc: 0.730 - ETA: 3:28 - loss: 0.6575 - acc: 0.729 - ETA: 3:28 - loss: 0.6582 - acc: 0.728 - ETA: 3:27 - loss: 0.6595 - acc: 0.727 - ETA: 3:26 - loss: 0.6610 - acc: 0.726 - ETA: 3:25 - loss: 0.6613 - acc: 0.726 - ETA: 3:25 - loss: 0.6632 - acc: 0.726 - ETA: 3:24 - loss: 0.6642 - acc: 0.724 - ETA: 3:23 - loss: 0.6644 - acc: 0.724 - ETA: 3:24 - loss: 0.6641 - acc: 0.725 - ETA: 3:23 - loss: 0.6644 - acc: 0.724 - ETA: 3:23 - loss: 0.6664 - acc: 0.723 - ETA: 3:22 - loss: 0.6677 - acc: 0.723 - ETA: 3:22 - loss: 0.6678 - acc: 0.723 - ETA: 3:22 - loss: 0.6695 - acc: 0.723 - ETA: 3:22 - loss: 0.6714 - acc: 0.721 - ETA: 3:22 - loss: 0.6723 - acc: 0.721 - ETA: 3:21 - loss: 0.6724 - acc: 0.721 - ETA: 3:21 - loss: 0.6726 - acc: 0.721 - ETA: 3:21 - loss: 0.6710 - acc: 0.722 - ETA: 3:21 - loss: 0.6702 - acc: 0.723 - ETA: 3:21 - loss: 0.6703 - acc: 0.723 - ETA: 3:20 - loss: 0.6705 - acc: 0.723 - ETA: 3:19 - loss: 0.6710 - acc: 0.723 - ETA: 3:19 - loss: 0.6711 - acc: 0.723 - ETA: 3:18 - loss: 0.6709 - acc: 0.723 - ETA: 3:18 - loss: 0.6711 - acc: 0.722 - ETA: 3:17 - loss: 0.6712 - acc: 0.722 - ETA: 3:16 - loss: 0.6719 - acc: 0.722 - ETA: 3:16 - loss: 0.6720 - acc: 0.722 - ETA: 3:15 - loss: 0.6715 - acc: 0.722 - ETA: 3:14 - loss: 0.6723 - acc: 0.722 - ETA: 3:14 - loss: 0.6729 - acc: 0.722 - ETA: 3:13 - loss: 0.6714 - acc: 0.723 - ETA: 3:12 - loss: 0.6719 - acc: 0.723 - ETA: 3:12 - loss: 0.6722 - acc: 0.722 - ETA: 3:11 - loss: 0.6736 - acc: 0.722 - ETA: 3:11 - loss: 0.6727 - acc: 0.722 - ETA: 3:10 - loss: 0.6724 - acc: 0.722 - ETA: 3:10 - loss: 0.6736 - acc: 0.721 - ETA: 3:09 - loss: 0.6739 - acc: 0.721 - ETA: 3:08 - loss: 0.6748 - acc: 0.720 - ETA: 3:08 - loss: 0.6744 - acc: 0.721 - ETA: 3:07 - loss: 0.6741 - acc: 0.721 - ETA: 3:07 - loss: 0.6734 - acc: 0.721 - ETA: 3:07 - loss: 0.6727 - acc: 0.721 - ETA: 3:06 - loss: 0.6729 - acc: 0.722 - ETA: 3:06 - loss: 0.6729 - acc: 0.721 - ETA: 3:05 - loss: 0.6727 - acc: 0.721 - ETA: 3:05 - loss: 0.6731 - acc: 0.721 - ETA: 3:05 - loss: 0.6729 - acc: 0.721 - ETA: 3:04 - loss: 0.6739 - acc: 0.721 - ETA: 3:04 - loss: 0.6741 - acc: 0.721 - ETA: 3:03 - loss: 0.6737 - acc: 0.721 - ETA: 3:03 - loss: 0.6740 - acc: 0.721 - ETA: 3:03 - loss: 0.6737 - acc: 0.721 - ETA: 3:02 - loss: 0.6739 - acc: 0.721 - ETA: 3:02 - loss: 0.6743 - acc: 0.721 - ETA: 3:01 - loss: 0.6745 - acc: 0.720 - ETA: 3:01 - loss: 0.6742 - acc: 0.720 - ETA: 3:00 - loss: 0.6754 - acc: 0.720 - ETA: 3:00 - loss: 0.6752 - acc: 0.720 - ETA: 2:59 - loss: 0.6753 - acc: 0.719 - ETA: 2:59 - loss: 0.6759 - acc: 0.719 - ETA: 2:58 - loss: 0.6758 - acc: 0.719 - ETA: 2:58 - loss: 0.6763 - acc: 0.719 - ETA: 2:57 - loss: 0.6769 - acc: 0.719 - ETA: 2:57 - loss: 0.6766 - acc: 0.719 - ETA: 2:56 - loss: 0.6768 - acc: 0.719 - ETA: 2:55 - loss: 0.6770 - acc: 0.719 - ETA: 2:55 - loss: 0.6769 - acc: 0.719 - ETA: 2:54 - loss: 0.6772 - acc: 0.719 - ETA: 2:54 - loss: 0.6773 - acc: 0.719 - ETA: 2:53 - loss: 0.6769 - acc: 0.719 - ETA: 2:53 - loss: 0.6768 - acc: 0.719 - ETA: 2:52 - loss: 0.6765 - acc: 0.719 - ETA: 2:52 - loss: 0.6766 - acc: 0.719 - ETA: 2:51 - loss: 0.6762 - acc: 0.719 - ETA: 2:51 - loss: 0.6760 - acc: 0.719 - ETA: 2:50 - loss: 0.6757 - acc: 0.719 - ETA: 2:50 - loss: 0.6756 - acc: 0.719 - ETA: 2:49 - loss: 0.6758 - acc: 0.719 - ETA: 2:49 - loss: 0.6761 - acc: 0.719 - ETA: 2:48 - loss: 0.6760 - acc: 0.719 - ETA: 2:48 - loss: 0.6760 - acc: 0.719 - ETA: 2:48 - loss: 0.6761 - acc: 0.718 - ETA: 2:47 - loss: 0.6764 - acc: 0.719 - ETA: 2:47 - loss: 0.6760 - acc: 0.719 - ETA: 2:46 - loss: 0.6764 - acc: 0.718 - ETA: 2:46 - loss: 0.6762 - acc: 0.719 - ETA: 2:46 - loss: 0.6770 - acc: 0.718 - ETA: 2:45 - loss: 0.6772 - acc: 0.718 - ETA: 2:45 - loss: 0.6778 - acc: 0.718 - ETA: 2:44 - loss: 0.6777 - acc: 0.718 - ETA: 2:44 - loss: 0.6781 - acc: 0.718 - ETA: 2:43 - loss: 0.6784 - acc: 0.718 - ETA: 2:43 - loss: 0.6791 - acc: 0.717 - ETA: 2:42 - loss: 0.6793 - acc: 0.718 - ETA: 2:42 - loss: 0.6792 - acc: 0.717 - ETA: 2:41 - loss: 0.6791 - acc: 0.717 - ETA: 2:41 - loss: 0.6788 - acc: 0.717 - ETA: 2:40 - loss: 0.6792 - acc: 0.717 - ETA: 2:40 - loss: 0.6791 - acc: 0.717 - ETA: 2:39 - loss: 0.6794 - acc: 0.717 - ETA: 2:39 - loss: 0.6791 - acc: 0.717 - ETA: 2:38 - loss: 0.6786 - acc: 0.717 - ETA: 2:38 - loss: 0.6784 - acc: 0.717 - ETA: 2:37 - loss: 0.6786 - acc: 0.717 - ETA: 2:37 - loss: 0.6785 - acc: 0.717 - ETA: 2:36 - loss: 0.6791 - acc: 0.717 - ETA: 2:36 - loss: 0.6794 - acc: 0.717 - ETA: 2:35 - loss: 0.6801 - acc: 0.716 - ETA: 2:35 - loss: 0.6800 - acc: 0.716 - ETA: 2:34 - loss: 0.6803 - acc: 0.716 - ETA: 2:34 - loss: 0.6803 - acc: 0.716 - ETA: 2:33 - loss: 0.6800 - acc: 0.716 - ETA: 2:33 - loss: 0.6803 - acc: 0.716 - ETA: 2:33 - loss: 0.6802 - acc: 0.716 - ETA: 2:32 - loss: 0.6801 - acc: 0.716 - ETA: 2:32 - loss: 0.6806 - acc: 0.716 - ETA: 2:31 - loss: 0.6801 - acc: 0.716 - ETA: 2:31 - loss: 0.6809 - acc: 0.716 - ETA: 2:31 - loss: 0.6810 - acc: 0.716 - ETA: 2:30 - loss: 0.6811 - acc: 0.716 - ETA: 2:30 - loss: 0.6812 - acc: 0.716 - ETA: 2:29 - loss: 0.6811 - acc: 0.716 - ETA: 2:29 - loss: 0.6811 - acc: 0.716 - ETA: 2:29 - loss: 0.6812 - acc: 0.716 - ETA: 2:28 - loss: 0.6814 - acc: 0.716 - ETA: 2:28 - loss: 0.6816 - acc: 0.716 - ETA: 2:28 - loss: 0.6815 - acc: 0.715 - ETA: 2:27 - loss: 0.6815 - acc: 0.715 - ETA: 2:27 - loss: 0.6818 - acc: 0.715 - ETA: 2:26 - loss: 0.6820 - acc: 0.715 - ETA: 2:26 - loss: 0.6825 - acc: 0.715 - ETA: 2:25 - loss: 0.6832 - acc: 0.715 - ETA: 2:25 - loss: 0.6835 - acc: 0.715 - ETA: 2:24 - loss: 0.6836 - acc: 0.715 - ETA: 2:24 - loss: 0.6840 - acc: 0.714 - ETA: 2:23 - loss: 0.6837 - acc: 0.715 - ETA: 2:23 - loss: 0.6838 - acc: 0.714 - ETA: 2:22 - loss: 0.6843 - acc: 0.714 - ETA: 2:22 - loss: 0.6842 - acc: 0.714 - ETA: 2:22 - loss: 0.6842 - acc: 0.715 - ETA: 2:21 - loss: 0.6841 - acc: 0.715 - ETA: 2:21 - loss: 0.6844 - acc: 0.714 - ETA: 2:20 - loss: 0.6847 - acc: 0.714 - ETA: 2:20 - loss: 0.6842 - acc: 0.714 - ETA: 2:19 - loss: 0.6846 - acc: 0.714 - ETA: 2:19 - loss: 0.6852 - acc: 0.714 - ETA: 2:18 - loss: 0.6850 - acc: 0.714 - ETA: 2:18 - loss: 0.6849 - acc: 0.714 - ETA: 2:17 - loss: 0.6854 - acc: 0.714 - ETA: 2:17 - loss: 0.6852 - acc: 0.714 - ETA: 2:17 - loss: 0.6853 - acc: 0.714 - ETA: 2:16 - loss: 0.6854 - acc: 0.714 - ETA: 2:16 - loss: 0.6852 - acc: 0.714 - ETA: 2:15 - loss: 0.6854 - acc: 0.714 - ETA: 2:15 - loss: 0.6857 - acc: 0.714 - ETA: 2:14 - loss: 0.6858 - acc: 0.714 - ETA: 2:14 - loss: 0.6857 - acc: 0.714 - ETA: 2:14 - loss: 0.6854 - acc: 0.714 - ETA: 2:13 - loss: 0.6854 - acc: 0.714 - ETA: 2:13 - loss: 0.6855 - acc: 0.714 - ETA: 2:12 - loss: 0.6855 - acc: 0.714 - ETA: 2:12 - loss: 0.6855 - acc: 0.714 - ETA: 2:11 - loss: 0.6855 - acc: 0.714 - ETA: 2:11 - loss: 0.6854 - acc: 0.714 - ETA: 2:10 - loss: 0.6856 - acc: 0.713 - ETA: 2:10 - loss: 0.6855 - acc: 0.714 - ETA: 2:09 - loss: 0.6851 - acc: 0.714 - ETA: 2:09 - loss: 0.6854 - acc: 0.7140105216/124848 [========================>.....] - ETA: 2:08 - loss: 0.6855 - acc: 0.714 - ETA: 2:08 - loss: 0.6852 - acc: 0.714 - ETA: 2:07 - loss: 0.6857 - acc: 0.713 - ETA: 2:07 - loss: 0.6856 - acc: 0.713 - ETA: 2:06 - loss: 0.6856 - acc: 0.713 - ETA: 2:06 - loss: 0.6853 - acc: 0.713 - ETA: 2:05 - loss: 0.6855 - acc: 0.713 - ETA: 2:05 - loss: 0.6853 - acc: 0.713 - ETA: 2:04 - loss: 0.6851 - acc: 0.713 - ETA: 2:04 - loss: 0.6853 - acc: 0.713 - ETA: 2:03 - loss: 0.6857 - acc: 0.713 - ETA: 2:03 - loss: 0.6854 - acc: 0.713 - ETA: 2:02 - loss: 0.6852 - acc: 0.713 - ETA: 2:02 - loss: 0.6850 - acc: 0.713 - ETA: 2:02 - loss: 0.6851 - acc: 0.713 - ETA: 2:01 - loss: 0.6850 - acc: 0.713 - ETA: 2:01 - loss: 0.6853 - acc: 0.713 - ETA: 2:00 - loss: 0.6852 - acc: 0.713 - ETA: 2:00 - loss: 0.6856 - acc: 0.713 - ETA: 1:59 - loss: 0.6858 - acc: 0.713 - ETA: 1:59 - loss: 0.6861 - acc: 0.713 - ETA: 1:58 - loss: 0.6858 - acc: 0.713 - ETA: 1:58 - loss: 0.6859 - acc: 0.713 - ETA: 1:58 - loss: 0.6857 - acc: 0.714 - ETA: 1:57 - loss: 0.6860 - acc: 0.714 - ETA: 1:57 - loss: 0.6860 - acc: 0.713 - ETA: 1:56 - loss: 0.6861 - acc: 0.713 - ETA: 1:56 - loss: 0.6859 - acc: 0.713 - ETA: 1:55 - loss: 0.6855 - acc: 0.714 - ETA: 1:55 - loss: 0.6854 - acc: 0.714 - ETA: 1:54 - loss: 0.6853 - acc: 0.714 - ETA: 1:54 - loss: 0.6855 - acc: 0.714 - ETA: 1:54 - loss: 0.6853 - acc: 0.714 - ETA: 1:53 - loss: 0.6854 - acc: 0.714 - ETA: 1:53 - loss: 0.6854 - acc: 0.714 - ETA: 1:52 - loss: 0.6851 - acc: 0.714 - ETA: 1:52 - loss: 0.6850 - acc: 0.714 - ETA: 1:51 - loss: 0.6852 - acc: 0.714 - ETA: 1:51 - loss: 0.6854 - acc: 0.714 - ETA: 1:50 - loss: 0.6852 - acc: 0.714 - ETA: 1:50 - loss: 0.6855 - acc: 0.713 - ETA: 1:49 - loss: 0.6855 - acc: 0.713 - ETA: 1:49 - loss: 0.6856 - acc: 0.713 - ETA: 1:48 - loss: 0.6854 - acc: 0.713 - ETA: 1:48 - loss: 0.6852 - acc: 0.713 - ETA: 1:47 - loss: 0.6852 - acc: 0.713 - ETA: 1:47 - loss: 0.6851 - acc: 0.713 - ETA: 1:46 - loss: 0.6853 - acc: 0.713 - ETA: 1:46 - loss: 0.6854 - acc: 0.713 - ETA: 1:45 - loss: 0.6857 - acc: 0.713 - ETA: 1:45 - loss: 0.6862 - acc: 0.713 - ETA: 1:45 - loss: 0.6862 - acc: 0.713 - ETA: 1:44 - loss: 0.6864 - acc: 0.713 - ETA: 1:44 - loss: 0.6864 - acc: 0.713 - ETA: 1:43 - loss: 0.6868 - acc: 0.713 - ETA: 1:43 - loss: 0.6873 - acc: 0.713 - ETA: 1:42 - loss: 0.6874 - acc: 0.712 - ETA: 1:42 - loss: 0.6876 - acc: 0.712 - ETA: 1:42 - loss: 0.6877 - acc: 0.712 - ETA: 1:41 - loss: 0.6879 - acc: 0.713 - ETA: 1:41 - loss: 0.6882 - acc: 0.712 - ETA: 1:40 - loss: 0.6883 - acc: 0.712 - ETA: 1:40 - loss: 0.6882 - acc: 0.712 - ETA: 1:39 - loss: 0.6881 - acc: 0.713 - ETA: 1:39 - loss: 0.6884 - acc: 0.712 - ETA: 1:38 - loss: 0.6884 - acc: 0.712 - ETA: 1:38 - loss: 0.6884 - acc: 0.712 - ETA: 1:38 - loss: 0.6881 - acc: 0.713 - ETA: 1:37 - loss: 0.6881 - acc: 0.713 - ETA: 1:37 - loss: 0.6882 - acc: 0.713 - ETA: 1:36 - loss: 0.6883 - acc: 0.713 - ETA: 1:36 - loss: 0.6883 - acc: 0.713 - ETA: 1:35 - loss: 0.6885 - acc: 0.713 - ETA: 1:35 - loss: 0.6885 - acc: 0.713 - ETA: 1:34 - loss: 0.6884 - acc: 0.713 - ETA: 1:34 - loss: 0.6887 - acc: 0.713 - ETA: 1:33 - loss: 0.6888 - acc: 0.713 - ETA: 1:33 - loss: 0.6890 - acc: 0.713 - ETA: 1:32 - loss: 0.6889 - acc: 0.713 - ETA: 1:32 - loss: 0.6893 - acc: 0.713 - ETA: 1:31 - loss: 0.6890 - acc: 0.713 - ETA: 1:31 - loss: 0.6889 - acc: 0.713 - ETA: 1:30 - loss: 0.6890 - acc: 0.713 - ETA: 1:30 - loss: 0.6894 - acc: 0.713 - ETA: 1:30 - loss: 0.6895 - acc: 0.713 - ETA: 1:29 - loss: 0.6897 - acc: 0.712 - ETA: 1:29 - loss: 0.6898 - acc: 0.712 - ETA: 1:28 - loss: 0.6898 - acc: 0.712 - ETA: 1:28 - loss: 0.6899 - acc: 0.712 - ETA: 1:27 - loss: 0.6899 - acc: 0.712 - ETA: 1:27 - loss: 0.6897 - acc: 0.712 - ETA: 1:27 - loss: 0.6895 - acc: 0.712 - ETA: 1:26 - loss: 0.6897 - acc: 0.712 - ETA: 1:26 - loss: 0.6900 - acc: 0.712 - ETA: 1:25 - loss: 0.6904 - acc: 0.712 - ETA: 1:25 - loss: 0.6904 - acc: 0.712 - ETA: 1:24 - loss: 0.6906 - acc: 0.712 - ETA: 1:24 - loss: 0.6907 - acc: 0.712 - ETA: 1:23 - loss: 0.6908 - acc: 0.712 - ETA: 1:23 - loss: 0.6908 - acc: 0.712 - ETA: 1:23 - loss: 0.6909 - acc: 0.712 - ETA: 1:22 - loss: 0.6909 - acc: 0.712 - ETA: 1:22 - loss: 0.6909 - acc: 0.712 - ETA: 1:21 - loss: 0.6911 - acc: 0.712 - ETA: 1:21 - loss: 0.6916 - acc: 0.711 - ETA: 1:20 - loss: 0.6916 - acc: 0.711 - ETA: 1:20 - loss: 0.6917 - acc: 0.711 - ETA: 1:19 - loss: 0.6917 - acc: 0.711 - ETA: 1:19 - loss: 0.6916 - acc: 0.711 - ETA: 1:18 - loss: 0.6915 - acc: 0.711 - ETA: 1:18 - loss: 0.6916 - acc: 0.711 - ETA: 1:18 - loss: 0.6915 - acc: 0.711 - ETA: 1:17 - loss: 0.6916 - acc: 0.711 - ETA: 1:17 - loss: 0.6916 - acc: 0.712 - ETA: 1:16 - loss: 0.6915 - acc: 0.712 - ETA: 1:16 - loss: 0.6916 - acc: 0.712 - ETA: 1:15 - loss: 0.6917 - acc: 0.711 - ETA: 1:15 - loss: 0.6917 - acc: 0.711 - ETA: 1:14 - loss: 0.6918 - acc: 0.711 - ETA: 1:14 - loss: 0.6917 - acc: 0.711 - ETA: 1:13 - loss: 0.6918 - acc: 0.711 - ETA: 1:13 - loss: 0.6920 - acc: 0.711 - ETA: 1:13 - loss: 0.6919 - acc: 0.711 - ETA: 1:12 - loss: 0.6918 - acc: 0.711 - ETA: 1:12 - loss: 0.6916 - acc: 0.711 - ETA: 1:11 - loss: 0.6916 - acc: 0.711 - ETA: 1:11 - loss: 0.6917 - acc: 0.711 - ETA: 1:10 - loss: 0.6918 - acc: 0.711 - ETA: 1:10 - loss: 0.6917 - acc: 0.711 - ETA: 1:09 - loss: 0.6917 - acc: 0.711 - ETA: 1:09 - loss: 0.6919 - acc: 0.711 - ETA: 1:09 - loss: 0.6921 - acc: 0.711 - ETA: 1:08 - loss: 0.6921 - acc: 0.711 - ETA: 1:08 - loss: 0.6921 - acc: 0.711 - ETA: 1:07 - loss: 0.6922 - acc: 0.711 - ETA: 1:07 - loss: 0.6921 - acc: 0.711 - ETA: 1:06 - loss: 0.6921 - acc: 0.711 - ETA: 1:06 - loss: 0.6921 - acc: 0.711 - ETA: 1:05 - loss: 0.6923 - acc: 0.711 - ETA: 1:05 - loss: 0.6927 - acc: 0.711 - ETA: 1:04 - loss: 0.6929 - acc: 0.711 - ETA: 1:04 - loss: 0.6932 - acc: 0.711 - ETA: 1:03 - loss: 0.6931 - acc: 0.711 - ETA: 1:03 - loss: 0.6931 - acc: 0.711 - ETA: 1:03 - loss: 0.6931 - acc: 0.711 - ETA: 1:02 - loss: 0.6931 - acc: 0.711 - ETA: 1:02 - loss: 0.6932 - acc: 0.711 - ETA: 1:01 - loss: 0.6936 - acc: 0.710 - ETA: 1:01 - loss: 0.6936 - acc: 0.710 - ETA: 1:00 - loss: 0.6936 - acc: 0.710 - ETA: 1:00 - loss: 0.6936 - acc: 0.710 - ETA: 59s - loss: 0.6937 - acc: 0.710 - ETA: 59s - loss: 0.6939 - acc: 0.71 - ETA: 58s - loss: 0.6939 - acc: 0.71 - ETA: 58s - loss: 0.6939 - acc: 0.71 - ETA: 57s - loss: 0.6938 - acc: 0.71 - ETA: 57s - loss: 0.6937 - acc: 0.71 - ETA: 57s - loss: 0.6935 - acc: 0.71 - ETA: 56s - loss: 0.6938 - acc: 0.71 - ETA: 56s - loss: 0.6937 - acc: 0.71 - ETA: 55s - loss: 0.6938 - acc: 0.71 - ETA: 55s - loss: 0.6940 - acc: 0.71 - ETA: 54s - loss: 0.6941 - acc: 0.71 - ETA: 54s - loss: 0.6942 - acc: 0.71 - ETA: 53s - loss: 0.6943 - acc: 0.71 - ETA: 53s - loss: 0.6943 - acc: 0.71 - ETA: 53s - loss: 0.6944 - acc: 0.71 - ETA: 52s - loss: 0.6944 - acc: 0.71 - ETA: 52s - loss: 0.6944 - acc: 0.71 - ETA: 51s - loss: 0.6947 - acc: 0.71 - ETA: 51s - loss: 0.6945 - acc: 0.71 - ETA: 50s - loss: 0.6946 - acc: 0.71 - ETA: 50s - loss: 0.6949 - acc: 0.71 - ETA: 49s - loss: 0.6949 - acc: 0.71 - ETA: 49s - loss: 0.6949 - acc: 0.71 - ETA: 49s - loss: 0.6949 - acc: 0.71 - ETA: 48s - loss: 0.6950 - acc: 0.71 - ETA: 48s - loss: 0.6952 - acc: 0.70 - ETA: 47s - loss: 0.6955 - acc: 0.70 - ETA: 47s - loss: 0.6955 - acc: 0.70 - ETA: 46s - loss: 0.6955 - acc: 0.70 - ETA: 46s - loss: 0.6957 - acc: 0.70 - ETA: 45s - loss: 0.6955 - acc: 0.70 - ETA: 45s - loss: 0.6957 - acc: 0.70 - ETA: 44s - loss: 0.6958 - acc: 0.70 - ETA: 44s - loss: 0.6957 - acc: 0.70 - ETA: 43s - loss: 0.6957 - acc: 0.70 - ETA: 43s - loss: 0.6957 - acc: 0.70 - ETA: 43s - loss: 0.6958 - acc: 0.70 - ETA: 42s - loss: 0.6960 - acc: 0.70 - ETA: 42s - loss: 0.6962 - acc: 0.70 - ETA: 41s - loss: 0.6963 - acc: 0.70 - ETA: 41s - loss: 0.6963 - acc: 0.70 - ETA: 40s - loss: 0.6964 - acc: 0.70 - ETA: 40s - loss: 0.6963 - acc: 0.70 - ETA: 39s - loss: 0.6962 - acc: 0.70 - ETA: 39s - loss: 0.6962 - acc: 0.70 - ETA: 38s - loss: 0.6962 - acc: 0.70 - ETA: 38s - loss: 0.6963 - acc: 0.70 - ETA: 38s - loss: 0.6964 - acc: 0.70 - ETA: 37s - loss: 0.6964 - acc: 0.70 - ETA: 37s - loss: 0.6965 - acc: 0.70 - ETA: 36s - loss: 0.6965 - acc: 0.70 - ETA: 36s - loss: 0.6963 - acc: 0.70 - ETA: 35s - loss: 0.6963 - acc: 0.70 - ETA: 35s - loss: 0.6963 - acc: 0.70 - ETA: 34s - loss: 0.6963 - acc: 0.7091"
     ]
    },
    {
     "name": "stdout",
     "output_type": "stream",
     "text": [
      "124848/124848 [==============================] - ETA: 34s - loss: 0.6965 - acc: 0.70 - ETA: 33s - loss: 0.6966 - acc: 0.70 - ETA: 33s - loss: 0.6964 - acc: 0.70 - ETA: 33s - loss: 0.6965 - acc: 0.70 - ETA: 32s - loss: 0.6963 - acc: 0.70 - ETA: 32s - loss: 0.6964 - acc: 0.70 - ETA: 31s - loss: 0.6966 - acc: 0.70 - ETA: 31s - loss: 0.6967 - acc: 0.70 - ETA: 30s - loss: 0.6968 - acc: 0.70 - ETA: 30s - loss: 0.6970 - acc: 0.70 - ETA: 29s - loss: 0.6969 - acc: 0.70 - ETA: 29s - loss: 0.6970 - acc: 0.70 - ETA: 28s - loss: 0.6970 - acc: 0.70 - ETA: 28s - loss: 0.6970 - acc: 0.70 - ETA: 28s - loss: 0.6971 - acc: 0.70 - ETA: 27s - loss: 0.6970 - acc: 0.70 - ETA: 27s - loss: 0.6971 - acc: 0.70 - ETA: 26s - loss: 0.6970 - acc: 0.70 - ETA: 26s - loss: 0.6970 - acc: 0.70 - ETA: 25s - loss: 0.6973 - acc: 0.70 - ETA: 25s - loss: 0.6970 - acc: 0.70 - ETA: 24s - loss: 0.6969 - acc: 0.70 - ETA: 24s - loss: 0.6970 - acc: 0.70 - ETA: 23s - loss: 0.6973 - acc: 0.70 - ETA: 23s - loss: 0.6974 - acc: 0.70 - ETA: 23s - loss: 0.6971 - acc: 0.70 - ETA: 22s - loss: 0.6972 - acc: 0.70 - ETA: 22s - loss: 0.6973 - acc: 0.70 - ETA: 21s - loss: 0.6975 - acc: 0.70 - ETA: 21s - loss: 0.6977 - acc: 0.70 - ETA: 20s - loss: 0.6976 - acc: 0.70 - ETA: 20s - loss: 0.6978 - acc: 0.70 - ETA: 19s - loss: 0.6978 - acc: 0.70 - ETA: 19s - loss: 0.6977 - acc: 0.70 - ETA: 18s - loss: 0.6974 - acc: 0.70 - ETA: 18s - loss: 0.6973 - acc: 0.70 - ETA: 18s - loss: 0.6974 - acc: 0.70 - ETA: 17s - loss: 0.6973 - acc: 0.70 - ETA: 17s - loss: 0.6974 - acc: 0.70 - ETA: 16s - loss: 0.6973 - acc: 0.70 - ETA: 16s - loss: 0.6976 - acc: 0.70 - ETA: 15s - loss: 0.6978 - acc: 0.70 - ETA: 15s - loss: 0.6979 - acc: 0.70 - ETA: 14s - loss: 0.6979 - acc: 0.70 - ETA: 14s - loss: 0.6979 - acc: 0.70 - ETA: 13s - loss: 0.6978 - acc: 0.70 - ETA: 13s - loss: 0.6977 - acc: 0.70 - ETA: 13s - loss: 0.6980 - acc: 0.70 - ETA: 12s - loss: 0.6981 - acc: 0.70 - ETA: 12s - loss: 0.6980 - acc: 0.70 - ETA: 11s - loss: 0.6981 - acc: 0.70 - ETA: 11s - loss: 0.6980 - acc: 0.70 - ETA: 10s - loss: 0.6979 - acc: 0.70 - ETA: 10s - loss: 0.6980 - acc: 0.70 - ETA: 9s - loss: 0.6982 - acc: 0.7080 - ETA: 9s - loss: 0.6983 - acc: 0.708 - ETA: 8s - loss: 0.6981 - acc: 0.708 - ETA: 8s - loss: 0.6980 - acc: 0.708 - ETA: 8s - loss: 0.6981 - acc: 0.708 - ETA: 7s - loss: 0.6980 - acc: 0.708 - ETA: 7s - loss: 0.6980 - acc: 0.708 - ETA: 6s - loss: 0.6983 - acc: 0.707 - ETA: 6s - loss: 0.6983 - acc: 0.707 - ETA: 5s - loss: 0.6982 - acc: 0.707 - ETA: 5s - loss: 0.6982 - acc: 0.707 - ETA: 4s - loss: 0.6984 - acc: 0.707 - ETA: 4s - loss: 0.6985 - acc: 0.707 - ETA: 3s - loss: 0.6985 - acc: 0.707 - ETA: 3s - loss: 0.6985 - acc: 0.707 - ETA: 3s - loss: 0.6986 - acc: 0.707 - ETA: 2s - loss: 0.6984 - acc: 0.707 - ETA: 2s - loss: 0.6985 - acc: 0.707 - ETA: 1s - loss: 0.6988 - acc: 0.707 - ETA: 1s - loss: 0.6989 - acc: 0.707 - ETA: 0s - loss: 0.6987 - acc: 0.707 - ETA: 0s - loss: 0.6987 - acc: 0.707 - 235s 2ms/step - loss: 0.6986 - acc: 0.7074 - val_loss: 0.8224 - val_acc: 0.6730\n",
      "Epoch 5/6\n"
     ]
    },
    {
     "name": "stdout",
     "output_type": "stream",
     "text": [
      " 52224/124848 [===========>..................] - ETA: 3:39 - loss: 0.6301 - acc: 0.730 - ETA: 3:38 - loss: 0.6141 - acc: 0.748 - ETA: 3:42 - loss: 0.6246 - acc: 0.746 - ETA: 3:38 - loss: 0.6301 - acc: 0.745 - ETA: 3:35 - loss: 0.6364 - acc: 0.737 - ETA: 3:35 - loss: 0.6437 - acc: 0.728 - ETA: 3:33 - loss: 0.6316 - acc: 0.734 - ETA: 3:31 - loss: 0.6309 - acc: 0.735 - ETA: 3:29 - loss: 0.6260 - acc: 0.738 - ETA: 3:30 - loss: 0.6352 - acc: 0.729 - ETA: 3:29 - loss: 0.6307 - acc: 0.730 - ETA: 3:27 - loss: 0.6277 - acc: 0.732 - ETA: 3:27 - loss: 0.6264 - acc: 0.733 - ETA: 3:26 - loss: 0.6255 - acc: 0.731 - ETA: 3:24 - loss: 0.6279 - acc: 0.731 - ETA: 3:25 - loss: 0.6321 - acc: 0.730 - ETA: 3:27 - loss: 0.6308 - acc: 0.730 - ETA: 3:28 - loss: 0.6369 - acc: 0.730 - ETA: 3:29 - loss: 0.6428 - acc: 0.729 - ETA: 3:29 - loss: 0.6441 - acc: 0.728 - ETA: 3:30 - loss: 0.6432 - acc: 0.728 - ETA: 3:31 - loss: 0.6414 - acc: 0.727 - ETA: 3:31 - loss: 0.6377 - acc: 0.729 - ETA: 3:31 - loss: 0.6362 - acc: 0.729 - ETA: 3:31 - loss: 0.6354 - acc: 0.729 - ETA: 3:30 - loss: 0.6369 - acc: 0.729 - ETA: 3:30 - loss: 0.6405 - acc: 0.727 - ETA: 3:30 - loss: 0.6393 - acc: 0.728 - ETA: 3:29 - loss: 0.6403 - acc: 0.727 - ETA: 3:29 - loss: 0.6376 - acc: 0.729 - ETA: 3:28 - loss: 0.6390 - acc: 0.728 - ETA: 3:28 - loss: 0.6383 - acc: 0.729 - ETA: 3:28 - loss: 0.6378 - acc: 0.730 - ETA: 3:27 - loss: 0.6357 - acc: 0.730 - ETA: 3:27 - loss: 0.6360 - acc: 0.730 - ETA: 3:26 - loss: 0.6361 - acc: 0.730 - ETA: 3:25 - loss: 0.6357 - acc: 0.731 - ETA: 3:24 - loss: 0.6365 - acc: 0.730 - ETA: 3:24 - loss: 0.6355 - acc: 0.731 - ETA: 3:23 - loss: 0.6353 - acc: 0.731 - ETA: 3:22 - loss: 0.6353 - acc: 0.731 - ETA: 3:22 - loss: 0.6357 - acc: 0.731 - ETA: 3:22 - loss: 0.6355 - acc: 0.731 - ETA: 3:21 - loss: 0.6375 - acc: 0.729 - ETA: 3:20 - loss: 0.6382 - acc: 0.729 - ETA: 3:20 - loss: 0.6392 - acc: 0.729 - ETA: 3:19 - loss: 0.6386 - acc: 0.730 - ETA: 3:18 - loss: 0.6405 - acc: 0.729 - ETA: 3:17 - loss: 0.6387 - acc: 0.730 - ETA: 3:17 - loss: 0.6377 - acc: 0.730 - ETA: 3:17 - loss: 0.6382 - acc: 0.730 - ETA: 3:16 - loss: 0.6387 - acc: 0.729 - ETA: 3:16 - loss: 0.6377 - acc: 0.729 - ETA: 3:16 - loss: 0.6389 - acc: 0.729 - ETA: 3:15 - loss: 0.6402 - acc: 0.729 - ETA: 3:14 - loss: 0.6403 - acc: 0.728 - ETA: 3:14 - loss: 0.6391 - acc: 0.729 - ETA: 3:14 - loss: 0.6389 - acc: 0.729 - ETA: 3:14 - loss: 0.6402 - acc: 0.728 - ETA: 3:13 - loss: 0.6417 - acc: 0.728 - ETA: 3:13 - loss: 0.6424 - acc: 0.727 - ETA: 3:13 - loss: 0.6426 - acc: 0.727 - ETA: 3:12 - loss: 0.6425 - acc: 0.727 - ETA: 3:12 - loss: 0.6422 - acc: 0.727 - ETA: 3:12 - loss: 0.6423 - acc: 0.726 - ETA: 3:11 - loss: 0.6431 - acc: 0.726 - ETA: 3:11 - loss: 0.6433 - acc: 0.727 - ETA: 3:10 - loss: 0.6447 - acc: 0.726 - ETA: 3:10 - loss: 0.6454 - acc: 0.726 - ETA: 3:10 - loss: 0.6456 - acc: 0.726 - ETA: 3:09 - loss: 0.6452 - acc: 0.726 - ETA: 3:09 - loss: 0.6456 - acc: 0.725 - ETA: 3:08 - loss: 0.6442 - acc: 0.726 - ETA: 3:07 - loss: 0.6445 - acc: 0.726 - ETA: 3:07 - loss: 0.6452 - acc: 0.726 - ETA: 3:06 - loss: 0.6445 - acc: 0.726 - ETA: 3:06 - loss: 0.6446 - acc: 0.726 - ETA: 3:05 - loss: 0.6432 - acc: 0.727 - ETA: 3:05 - loss: 0.6430 - acc: 0.727 - ETA: 3:04 - loss: 0.6431 - acc: 0.727 - ETA: 3:04 - loss: 0.6452 - acc: 0.727 - ETA: 3:03 - loss: 0.6459 - acc: 0.726 - ETA: 3:03 - loss: 0.6454 - acc: 0.726 - ETA: 3:02 - loss: 0.6462 - acc: 0.726 - ETA: 3:02 - loss: 0.6468 - acc: 0.726 - ETA: 3:01 - loss: 0.6467 - acc: 0.726 - ETA: 3:01 - loss: 0.6478 - acc: 0.725 - ETA: 3:01 - loss: 0.6481 - acc: 0.725 - ETA: 3:00 - loss: 0.6479 - acc: 0.725 - ETA: 3:00 - loss: 0.6479 - acc: 0.725 - ETA: 3:00 - loss: 0.6470 - acc: 0.725 - ETA: 2:59 - loss: 0.6466 - acc: 0.725 - ETA: 2:59 - loss: 0.6471 - acc: 0.725 - ETA: 2:59 - loss: 0.6469 - acc: 0.725 - ETA: 2:59 - loss: 0.6469 - acc: 0.725 - ETA: 2:58 - loss: 0.6459 - acc: 0.726 - ETA: 2:58 - loss: 0.6460 - acc: 0.726 - ETA: 2:58 - loss: 0.6456 - acc: 0.726 - ETA: 2:57 - loss: 0.6457 - acc: 0.726 - ETA: 2:57 - loss: 0.6457 - acc: 0.726 - ETA: 2:57 - loss: 0.6459 - acc: 0.726 - ETA: 2:56 - loss: 0.6458 - acc: 0.726 - ETA: 2:56 - loss: 0.6456 - acc: 0.727 - ETA: 2:56 - loss: 0.6458 - acc: 0.726 - ETA: 2:55 - loss: 0.6458 - acc: 0.726 - ETA: 2:54 - loss: 0.6454 - acc: 0.726 - ETA: 2:54 - loss: 0.6453 - acc: 0.727 - ETA: 2:53 - loss: 0.6456 - acc: 0.727 - ETA: 2:53 - loss: 0.6456 - acc: 0.726 - ETA: 2:52 - loss: 0.6454 - acc: 0.726 - ETA: 2:52 - loss: 0.6466 - acc: 0.726 - ETA: 2:52 - loss: 0.6462 - acc: 0.726 - ETA: 2:51 - loss: 0.6466 - acc: 0.726 - ETA: 2:51 - loss: 0.6465 - acc: 0.726 - ETA: 2:51 - loss: 0.6465 - acc: 0.726 - ETA: 2:51 - loss: 0.6458 - acc: 0.726 - ETA: 2:51 - loss: 0.6459 - acc: 0.726 - ETA: 2:50 - loss: 0.6459 - acc: 0.726 - ETA: 2:50 - loss: 0.6459 - acc: 0.726 - ETA: 2:50 - loss: 0.6465 - acc: 0.726 - ETA: 2:50 - loss: 0.6466 - acc: 0.726 - ETA: 2:50 - loss: 0.6463 - acc: 0.726 - ETA: 2:49 - loss: 0.6464 - acc: 0.726 - ETA: 2:49 - loss: 0.6461 - acc: 0.726 - ETA: 2:49 - loss: 0.6466 - acc: 0.726 - ETA: 2:48 - loss: 0.6460 - acc: 0.726 - ETA: 2:48 - loss: 0.6463 - acc: 0.726 - ETA: 2:48 - loss: 0.6472 - acc: 0.726 - ETA: 2:47 - loss: 0.6477 - acc: 0.726 - ETA: 2:47 - loss: 0.6481 - acc: 0.726 - ETA: 2:46 - loss: 0.6477 - acc: 0.726 - ETA: 2:46 - loss: 0.6481 - acc: 0.726 - ETA: 2:45 - loss: 0.6479 - acc: 0.725 - ETA: 2:45 - loss: 0.6479 - acc: 0.726 - ETA: 2:44 - loss: 0.6479 - acc: 0.726 - ETA: 2:44 - loss: 0.6480 - acc: 0.726 - ETA: 2:43 - loss: 0.6483 - acc: 0.726 - ETA: 2:43 - loss: 0.6478 - acc: 0.726 - ETA: 2:42 - loss: 0.6474 - acc: 0.726 - ETA: 2:42 - loss: 0.6474 - acc: 0.726 - ETA: 2:41 - loss: 0.6471 - acc: 0.726 - ETA: 2:41 - loss: 0.6473 - acc: 0.726 - ETA: 2:40 - loss: 0.6470 - acc: 0.726 - ETA: 2:39 - loss: 0.6471 - acc: 0.726 - ETA: 2:39 - loss: 0.6475 - acc: 0.726 - ETA: 2:38 - loss: 0.6478 - acc: 0.726 - ETA: 2:38 - loss: 0.6483 - acc: 0.726 - ETA: 2:37 - loss: 0.6492 - acc: 0.725 - ETA: 2:37 - loss: 0.6490 - acc: 0.726 - ETA: 2:36 - loss: 0.6496 - acc: 0.725 - ETA: 2:36 - loss: 0.6497 - acc: 0.725 - ETA: 2:36 - loss: 0.6498 - acc: 0.725 - ETA: 2:35 - loss: 0.6501 - acc: 0.725 - ETA: 2:35 - loss: 0.6507 - acc: 0.725 - ETA: 2:35 - loss: 0.6508 - acc: 0.725 - ETA: 2:34 - loss: 0.6514 - acc: 0.724 - ETA: 2:34 - loss: 0.6514 - acc: 0.725 - ETA: 2:34 - loss: 0.6513 - acc: 0.725 - ETA: 2:33 - loss: 0.6510 - acc: 0.725 - ETA: 2:33 - loss: 0.6513 - acc: 0.725 - ETA: 2:33 - loss: 0.6514 - acc: 0.724 - ETA: 2:33 - loss: 0.6513 - acc: 0.724 - ETA: 2:32 - loss: 0.6510 - acc: 0.725 - ETA: 2:32 - loss: 0.6518 - acc: 0.724 - ETA: 2:31 - loss: 0.6524 - acc: 0.724 - ETA: 2:31 - loss: 0.6526 - acc: 0.724 - ETA: 2:31 - loss: 0.6525 - acc: 0.724 - ETA: 2:30 - loss: 0.6520 - acc: 0.724 - ETA: 2:30 - loss: 0.6517 - acc: 0.724 - ETA: 2:29 - loss: 0.6518 - acc: 0.724 - ETA: 2:29 - loss: 0.6516 - acc: 0.724 - ETA: 2:28 - loss: 0.6514 - acc: 0.725 - ETA: 2:28 - loss: 0.6515 - acc: 0.725 - ETA: 2:27 - loss: 0.6519 - acc: 0.725 - ETA: 2:27 - loss: 0.6518 - acc: 0.725 - ETA: 2:26 - loss: 0.6523 - acc: 0.725 - ETA: 2:26 - loss: 0.6524 - acc: 0.725 - ETA: 2:25 - loss: 0.6521 - acc: 0.725 - ETA: 2:25 - loss: 0.6522 - acc: 0.725 - ETA: 2:24 - loss: 0.6524 - acc: 0.725 - ETA: 2:24 - loss: 0.6522 - acc: 0.725 - ETA: 2:23 - loss: 0.6523 - acc: 0.725 - ETA: 2:23 - loss: 0.6527 - acc: 0.725 - ETA: 2:22 - loss: 0.6523 - acc: 0.725 - ETA: 2:22 - loss: 0.6526 - acc: 0.725 - ETA: 2:21 - loss: 0.6527 - acc: 0.725 - ETA: 2:21 - loss: 0.6528 - acc: 0.725 - ETA: 2:20 - loss: 0.6530 - acc: 0.725 - ETA: 2:20 - loss: 0.6531 - acc: 0.725 - ETA: 2:20 - loss: 0.6531 - acc: 0.725 - ETA: 2:19 - loss: 0.6531 - acc: 0.725 - ETA: 2:19 - loss: 0.6537 - acc: 0.725 - ETA: 2:18 - loss: 0.6535 - acc: 0.725 - ETA: 2:18 - loss: 0.6537 - acc: 0.725 - ETA: 2:18 - loss: 0.6538 - acc: 0.725 - ETA: 2:17 - loss: 0.6539 - acc: 0.725 - ETA: 2:17 - loss: 0.6536 - acc: 0.725 - ETA: 2:17 - loss: 0.6536 - acc: 0.725 - ETA: 2:16 - loss: 0.6543 - acc: 0.725 - ETA: 2:16 - loss: 0.6546 - acc: 0.724 - ETA: 2:15 - loss: 0.6546 - acc: 0.724 - ETA: 2:15 - loss: 0.6552 - acc: 0.724 - ETA: 2:15 - loss: 0.6552 - acc: 0.724 - ETA: 2:14 - loss: 0.6551 - acc: 0.7247105216/124848 [========================>.....] - ETA: 2:14 - loss: 0.6553 - acc: 0.724 - ETA: 2:13 - loss: 0.6557 - acc: 0.724 - ETA: 2:13 - loss: 0.6558 - acc: 0.724 - ETA: 2:12 - loss: 0.6558 - acc: 0.724 - ETA: 2:12 - loss: 0.6558 - acc: 0.724 - ETA: 2:11 - loss: 0.6556 - acc: 0.724 - ETA: 2:11 - loss: 0.6562 - acc: 0.724 - ETA: 2:10 - loss: 0.6563 - acc: 0.724 - ETA: 2:10 - loss: 0.6565 - acc: 0.724 - ETA: 2:10 - loss: 0.6563 - acc: 0.724 - ETA: 2:09 - loss: 0.6562 - acc: 0.724 - ETA: 2:08 - loss: 0.6562 - acc: 0.725 - ETA: 2:08 - loss: 0.6565 - acc: 0.724 - ETA: 2:08 - loss: 0.6569 - acc: 0.724 - ETA: 2:07 - loss: 0.6567 - acc: 0.724 - ETA: 2:07 - loss: 0.6572 - acc: 0.724 - ETA: 2:06 - loss: 0.6576 - acc: 0.724 - ETA: 2:06 - loss: 0.6574 - acc: 0.724 - ETA: 2:05 - loss: 0.6575 - acc: 0.724 - ETA: 2:05 - loss: 0.6574 - acc: 0.724 - ETA: 2:05 - loss: 0.6573 - acc: 0.724 - ETA: 2:04 - loss: 0.6567 - acc: 0.725 - ETA: 2:04 - loss: 0.6568 - acc: 0.725 - ETA: 2:03 - loss: 0.6570 - acc: 0.725 - ETA: 2:03 - loss: 0.6568 - acc: 0.725 - ETA: 2:02 - loss: 0.6569 - acc: 0.725 - ETA: 2:02 - loss: 0.6573 - acc: 0.725 - ETA: 2:01 - loss: 0.6571 - acc: 0.725 - ETA: 2:01 - loss: 0.6571 - acc: 0.725 - ETA: 2:00 - loss: 0.6572 - acc: 0.725 - ETA: 2:00 - loss: 0.6574 - acc: 0.725 - ETA: 1:59 - loss: 0.6572 - acc: 0.725 - ETA: 1:59 - loss: 0.6575 - acc: 0.725 - ETA: 1:58 - loss: 0.6580 - acc: 0.724 - ETA: 1:58 - loss: 0.6580 - acc: 0.724 - ETA: 1:57 - loss: 0.6582 - acc: 0.724 - ETA: 1:57 - loss: 0.6586 - acc: 0.724 - ETA: 1:56 - loss: 0.6585 - acc: 0.724 - ETA: 1:56 - loss: 0.6582 - acc: 0.724 - ETA: 1:55 - loss: 0.6584 - acc: 0.724 - ETA: 1:55 - loss: 0.6587 - acc: 0.724 - ETA: 1:55 - loss: 0.6586 - acc: 0.724 - ETA: 1:54 - loss: 0.6587 - acc: 0.724 - ETA: 1:54 - loss: 0.6589 - acc: 0.724 - ETA: 1:53 - loss: 0.6587 - acc: 0.724 - ETA: 1:53 - loss: 0.6588 - acc: 0.724 - ETA: 1:52 - loss: 0.6586 - acc: 0.724 - ETA: 1:52 - loss: 0.6586 - acc: 0.724 - ETA: 1:51 - loss: 0.6590 - acc: 0.724 - ETA: 1:51 - loss: 0.6591 - acc: 0.724 - ETA: 1:50 - loss: 0.6594 - acc: 0.724 - ETA: 1:50 - loss: 0.6594 - acc: 0.724 - ETA: 1:49 - loss: 0.6595 - acc: 0.724 - ETA: 1:49 - loss: 0.6595 - acc: 0.724 - ETA: 1:48 - loss: 0.6597 - acc: 0.724 - ETA: 1:48 - loss: 0.6599 - acc: 0.723 - ETA: 1:47 - loss: 0.6600 - acc: 0.723 - ETA: 1:47 - loss: 0.6602 - acc: 0.723 - ETA: 1:46 - loss: 0.6603 - acc: 0.723 - ETA: 1:46 - loss: 0.6607 - acc: 0.723 - ETA: 1:45 - loss: 0.6609 - acc: 0.723 - ETA: 1:45 - loss: 0.6612 - acc: 0.723 - ETA: 1:44 - loss: 0.6611 - acc: 0.723 - ETA: 1:44 - loss: 0.6612 - acc: 0.723 - ETA: 1:43 - loss: 0.6610 - acc: 0.723 - ETA: 1:43 - loss: 0.6612 - acc: 0.723 - ETA: 1:42 - loss: 0.6612 - acc: 0.723 - ETA: 1:42 - loss: 0.6611 - acc: 0.723 - ETA: 1:41 - loss: 0.6610 - acc: 0.723 - ETA: 1:41 - loss: 0.6611 - acc: 0.723 - ETA: 1:40 - loss: 0.6611 - acc: 0.723 - ETA: 1:40 - loss: 0.6616 - acc: 0.723 - ETA: 1:39 - loss: 0.6615 - acc: 0.722 - ETA: 1:39 - loss: 0.6615 - acc: 0.723 - ETA: 1:38 - loss: 0.6616 - acc: 0.722 - ETA: 1:38 - loss: 0.6616 - acc: 0.722 - ETA: 1:37 - loss: 0.6619 - acc: 0.722 - ETA: 1:37 - loss: 0.6620 - acc: 0.722 - ETA: 1:36 - loss: 0.6626 - acc: 0.722 - ETA: 1:36 - loss: 0.6626 - acc: 0.722 - ETA: 1:35 - loss: 0.6625 - acc: 0.722 - ETA: 1:35 - loss: 0.6627 - acc: 0.722 - ETA: 1:34 - loss: 0.6625 - acc: 0.722 - ETA: 1:34 - loss: 0.6626 - acc: 0.722 - ETA: 1:34 - loss: 0.6627 - acc: 0.722 - ETA: 1:33 - loss: 0.6629 - acc: 0.722 - ETA: 1:33 - loss: 0.6629 - acc: 0.722 - ETA: 1:32 - loss: 0.6627 - acc: 0.722 - ETA: 1:32 - loss: 0.6626 - acc: 0.722 - ETA: 1:31 - loss: 0.6624 - acc: 0.722 - ETA: 1:31 - loss: 0.6621 - acc: 0.722 - ETA: 1:30 - loss: 0.6624 - acc: 0.722 - ETA: 1:30 - loss: 0.6626 - acc: 0.722 - ETA: 1:29 - loss: 0.6626 - acc: 0.722 - ETA: 1:29 - loss: 0.6628 - acc: 0.722 - ETA: 1:28 - loss: 0.6629 - acc: 0.722 - ETA: 1:28 - loss: 0.6632 - acc: 0.722 - ETA: 1:27 - loss: 0.6631 - acc: 0.722 - ETA: 1:27 - loss: 0.6627 - acc: 0.722 - ETA: 1:27 - loss: 0.6629 - acc: 0.722 - ETA: 1:26 - loss: 0.6630 - acc: 0.722 - ETA: 1:25 - loss: 0.6631 - acc: 0.722 - ETA: 1:25 - loss: 0.6630 - acc: 0.722 - ETA: 1:24 - loss: 0.6629 - acc: 0.722 - ETA: 1:24 - loss: 0.6628 - acc: 0.722 - ETA: 1:23 - loss: 0.6626 - acc: 0.722 - ETA: 1:23 - loss: 0.6627 - acc: 0.722 - ETA: 1:23 - loss: 0.6628 - acc: 0.722 - ETA: 1:22 - loss: 0.6630 - acc: 0.721 - ETA: 1:22 - loss: 0.6632 - acc: 0.721 - ETA: 1:21 - loss: 0.6633 - acc: 0.721 - ETA: 1:21 - loss: 0.6634 - acc: 0.721 - ETA: 1:20 - loss: 0.6637 - acc: 0.721 - ETA: 1:20 - loss: 0.6636 - acc: 0.721 - ETA: 1:19 - loss: 0.6637 - acc: 0.721 - ETA: 1:19 - loss: 0.6637 - acc: 0.721 - ETA: 1:18 - loss: 0.6637 - acc: 0.721 - ETA: 1:18 - loss: 0.6637 - acc: 0.721 - ETA: 1:17 - loss: 0.6638 - acc: 0.721 - ETA: 1:17 - loss: 0.6636 - acc: 0.721 - ETA: 1:16 - loss: 0.6636 - acc: 0.721 - ETA: 1:16 - loss: 0.6637 - acc: 0.721 - ETA: 1:16 - loss: 0.6641 - acc: 0.721 - ETA: 1:15 - loss: 0.6640 - acc: 0.721 - ETA: 1:15 - loss: 0.6642 - acc: 0.721 - ETA: 1:14 - loss: 0.6645 - acc: 0.721 - ETA: 1:14 - loss: 0.6646 - acc: 0.721 - ETA: 1:13 - loss: 0.6649 - acc: 0.720 - ETA: 1:13 - loss: 0.6650 - acc: 0.720 - ETA: 1:12 - loss: 0.6651 - acc: 0.720 - ETA: 1:12 - loss: 0.6651 - acc: 0.720 - ETA: 1:11 - loss: 0.6651 - acc: 0.720 - ETA: 1:11 - loss: 0.6650 - acc: 0.720 - ETA: 1:11 - loss: 0.6652 - acc: 0.720 - ETA: 1:10 - loss: 0.6653 - acc: 0.720 - ETA: 1:10 - loss: 0.6653 - acc: 0.720 - ETA: 1:09 - loss: 0.6652 - acc: 0.720 - ETA: 1:09 - loss: 0.6651 - acc: 0.720 - ETA: 1:08 - loss: 0.6651 - acc: 0.720 - ETA: 1:08 - loss: 0.6651 - acc: 0.720 - ETA: 1:07 - loss: 0.6651 - acc: 0.720 - ETA: 1:07 - loss: 0.6651 - acc: 0.720 - ETA: 1:06 - loss: 0.6652 - acc: 0.720 - ETA: 1:06 - loss: 0.6656 - acc: 0.720 - ETA: 1:05 - loss: 0.6656 - acc: 0.720 - ETA: 1:05 - loss: 0.6656 - acc: 0.720 - ETA: 1:04 - loss: 0.6657 - acc: 0.720 - ETA: 1:04 - loss: 0.6657 - acc: 0.720 - ETA: 1:03 - loss: 0.6659 - acc: 0.720 - ETA: 1:03 - loss: 0.6660 - acc: 0.720 - ETA: 1:02 - loss: 0.6659 - acc: 0.720 - ETA: 1:02 - loss: 0.6661 - acc: 0.720 - ETA: 1:01 - loss: 0.6663 - acc: 0.720 - ETA: 1:01 - loss: 0.6662 - acc: 0.720 - ETA: 1:00 - loss: 0.6662 - acc: 0.720 - ETA: 1:00 - loss: 0.6659 - acc: 0.720 - ETA: 1:00 - loss: 0.6662 - acc: 0.720 - ETA: 59s - loss: 0.6662 - acc: 0.720 - ETA: 59s - loss: 0.6662 - acc: 0.72 - ETA: 58s - loss: 0.6662 - acc: 0.72 - ETA: 58s - loss: 0.6662 - acc: 0.72 - ETA: 57s - loss: 0.6660 - acc: 0.72 - ETA: 57s - loss: 0.6662 - acc: 0.72 - ETA: 56s - loss: 0.6663 - acc: 0.72 - ETA: 56s - loss: 0.6664 - acc: 0.72 - ETA: 55s - loss: 0.6665 - acc: 0.72 - ETA: 55s - loss: 0.6668 - acc: 0.71 - ETA: 54s - loss: 0.6667 - acc: 0.71 - ETA: 54s - loss: 0.6667 - acc: 0.71 - ETA: 53s - loss: 0.6669 - acc: 0.71 - ETA: 53s - loss: 0.6670 - acc: 0.71 - ETA: 52s - loss: 0.6670 - acc: 0.71 - ETA: 52s - loss: 0.6671 - acc: 0.71 - ETA: 52s - loss: 0.6673 - acc: 0.71 - ETA: 51s - loss: 0.6673 - acc: 0.71 - ETA: 51s - loss: 0.6674 - acc: 0.71 - ETA: 50s - loss: 0.6677 - acc: 0.71 - ETA: 50s - loss: 0.6680 - acc: 0.71 - ETA: 49s - loss: 0.6680 - acc: 0.71 - ETA: 49s - loss: 0.6680 - acc: 0.71 - ETA: 48s - loss: 0.6682 - acc: 0.71 - ETA: 48s - loss: 0.6681 - acc: 0.71 - ETA: 47s - loss: 0.6680 - acc: 0.71 - ETA: 47s - loss: 0.6680 - acc: 0.71 - ETA: 46s - loss: 0.6679 - acc: 0.71 - ETA: 46s - loss: 0.6679 - acc: 0.71 - ETA: 45s - loss: 0.6679 - acc: 0.71 - ETA: 45s - loss: 0.6680 - acc: 0.71 - ETA: 44s - loss: 0.6680 - acc: 0.71 - ETA: 44s - loss: 0.6679 - acc: 0.71 - ETA: 44s - loss: 0.6677 - acc: 0.71 - ETA: 43s - loss: 0.6679 - acc: 0.71 - ETA: 43s - loss: 0.6681 - acc: 0.71 - ETA: 42s - loss: 0.6682 - acc: 0.71 - ETA: 42s - loss: 0.6685 - acc: 0.71 - ETA: 41s - loss: 0.6684 - acc: 0.71 - ETA: 41s - loss: 0.6686 - acc: 0.71 - ETA: 40s - loss: 0.6688 - acc: 0.71 - ETA: 40s - loss: 0.6688 - acc: 0.71 - ETA: 39s - loss: 0.6689 - acc: 0.71 - ETA: 39s - loss: 0.6690 - acc: 0.71 - ETA: 38s - loss: 0.6689 - acc: 0.71 - ETA: 38s - loss: 0.6688 - acc: 0.71 - ETA: 38s - loss: 0.6689 - acc: 0.71 - ETA: 37s - loss: 0.6689 - acc: 0.71 - ETA: 37s - loss: 0.6689 - acc: 0.71 - ETA: 36s - loss: 0.6690 - acc: 0.7189124848/124848 [==============================] - ETA: 36s - loss: 0.6691 - acc: 0.71 - ETA: 35s - loss: 0.6693 - acc: 0.71 - ETA: 35s - loss: 0.6695 - acc: 0.71 - ETA: 34s - loss: 0.6694 - acc: 0.71 - ETA: 34s - loss: 0.6696 - acc: 0.71 - ETA: 33s - loss: 0.6693 - acc: 0.71 - ETA: 33s - loss: 0.6695 - acc: 0.71 - ETA: 32s - loss: 0.6694 - acc: 0.71 - ETA: 32s - loss: 0.6695 - acc: 0.71 - ETA: 31s - loss: 0.6695 - acc: 0.71 - ETA: 31s - loss: 0.6695 - acc: 0.71 - ETA: 30s - loss: 0.6696 - acc: 0.71 - ETA: 30s - loss: 0.6696 - acc: 0.71 - ETA: 29s - loss: 0.6697 - acc: 0.71 - ETA: 29s - loss: 0.6695 - acc: 0.71 - ETA: 28s - loss: 0.6698 - acc: 0.71 - ETA: 28s - loss: 0.6697 - acc: 0.71 - ETA: 27s - loss: 0.6700 - acc: 0.71 - ETA: 27s - loss: 0.6700 - acc: 0.71 - ETA: 27s - loss: 0.6703 - acc: 0.71 - ETA: 26s - loss: 0.6701 - acc: 0.71 - ETA: 26s - loss: 0.6701 - acc: 0.71 - ETA: 25s - loss: 0.6703 - acc: 0.71 - ETA: 25s - loss: 0.6703 - acc: 0.71 - ETA: 24s - loss: 0.6703 - acc: 0.71 - ETA: 24s - loss: 0.6705 - acc: 0.71 - ETA: 23s - loss: 0.6705 - acc: 0.71 - ETA: 23s - loss: 0.6706 - acc: 0.71 - ETA: 22s - loss: 0.6708 - acc: 0.71 - ETA: 22s - loss: 0.6710 - acc: 0.71 - ETA: 21s - loss: 0.6708 - acc: 0.71 - ETA: 21s - loss: 0.6710 - acc: 0.71 - ETA: 20s - loss: 0.6709 - acc: 0.71 - ETA: 20s - loss: 0.6710 - acc: 0.71 - ETA: 19s - loss: 0.6711 - acc: 0.71 - ETA: 19s - loss: 0.6709 - acc: 0.71 - ETA: 18s - loss: 0.6710 - acc: 0.71 - ETA: 18s - loss: 0.6708 - acc: 0.71 - ETA: 17s - loss: 0.6707 - acc: 0.71 - ETA: 17s - loss: 0.6708 - acc: 0.71 - ETA: 16s - loss: 0.6708 - acc: 0.71 - ETA: 16s - loss: 0.6707 - acc: 0.71 - ETA: 16s - loss: 0.6709 - acc: 0.71 - ETA: 15s - loss: 0.6709 - acc: 0.71 - ETA: 15s - loss: 0.6709 - acc: 0.71 - ETA: 14s - loss: 0.6710 - acc: 0.71 - ETA: 14s - loss: 0.6711 - acc: 0.71 - ETA: 13s - loss: 0.6711 - acc: 0.71 - ETA: 13s - loss: 0.6713 - acc: 0.71 - ETA: 12s - loss: 0.6714 - acc: 0.71 - ETA: 12s - loss: 0.6714 - acc: 0.71 - ETA: 11s - loss: 0.6717 - acc: 0.71 - ETA: 11s - loss: 0.6720 - acc: 0.71 - ETA: 10s - loss: 0.6719 - acc: 0.71 - ETA: 10s - loss: 0.6719 - acc: 0.71 - ETA: 9s - loss: 0.6720 - acc: 0.7174 - ETA: 9s - loss: 0.6721 - acc: 0.717 - ETA: 8s - loss: 0.6721 - acc: 0.717 - ETA: 8s - loss: 0.6720 - acc: 0.717 - ETA: 7s - loss: 0.6720 - acc: 0.717 - ETA: 7s - loss: 0.6719 - acc: 0.717 - ETA: 6s - loss: 0.6720 - acc: 0.717 - ETA: 6s - loss: 0.6719 - acc: 0.717 - ETA: 6s - loss: 0.6719 - acc: 0.717 - ETA: 5s - loss: 0.6718 - acc: 0.717 - ETA: 5s - loss: 0.6718 - acc: 0.717 - ETA: 4s - loss: 0.6719 - acc: 0.717 - ETA: 4s - loss: 0.6719 - acc: 0.717 - ETA: 3s - loss: 0.6721 - acc: 0.717 - ETA: 3s - loss: 0.6720 - acc: 0.717 - ETA: 2s - loss: 0.6720 - acc: 0.717 - ETA: 2s - loss: 0.6722 - acc: 0.717 - ETA: 1s - loss: 0.6722 - acc: 0.717 - ETA: 1s - loss: 0.6722 - acc: 0.717 - ETA: 0s - loss: 0.6725 - acc: 0.717 - ETA: 0s - loss: 0.6724 - acc: 0.717 - 244s 2ms/step - loss: 0.6724 - acc: 0.7174 - val_loss: 0.8399 - val_acc: 0.6730\n"
     ]
    }
   ],
   "source": [
    "# Fit the model\n",
    "\n",
    "history=model.fit(X_train, y_train, validation_data=(X_val, y_val),epochs=6, batch_size=256, verbose=1, callbacks=callback)"
   ]
  },
  {
   "cell_type": "markdown",
   "metadata": {},
   "source": [
    "# Model's Performance and Learning's curve visualization\n",
    "We are going to visualize the behavior of the learning curve both for training and validation datasets to check the performance of our model in an understandable way.\n",
    "\n",
    "A learning curve is a plot of model learning performance over experience or time or more simply, it is a line plot of learning (y-axis) over experience (x-axis).\n",
    "\n",
    "Learning curves are a widely used diagnostic tool in machine and deep learning for algorithms that learn from a training dataset incrementally. The model can be evaluated on the training dataset and on a holdout validation dataset after each update during training and plots of the measured performance can created to show learning curves.\n",
    "\n",
    "Reviewing learning curves of models during training can be used to diagnose problems with learning, such as an underfit or overfit model, as well as whether the training and validation datasets are suitably representative.\n",
    "\n",
    "During the training of a machine learning model, the current state of the model at each step of the training algorithm can be evaluated. It can be evaluated on the training dataset to give an idea of how well the model is “learning.” It can also be evaluated on a hold-out validation dataset that is not part of the training dataset. Evaluation on the validation dataset gives an idea of how well the model is “generalizing.”\n",
    "\n",
    "•\tTrain Learning Curve: Learning curve calculated from the training dataset that gives an idea of how well the model is learning.\n",
    "\n",
    "•\tValidation Learning Curve: Learning curve calculated from a hold-out validation dataset that gives an idea of how well the model is generalizing.\n"
   ]
  },
  {
   "cell_type": "code",
   "execution_count": 20,
   "metadata": {},
   "outputs": [
    {
     "data": {
      "image/png": "[encoded data removed]",
      "text/plain": [
       "<Figure size 432x288 with 1 Axes>"
      ]
     },
     "metadata": {
      "needs_background": "light"
     },
     "output_type": "display_data"
    }
   ],
   "source": [
    "# Visualize learning curve. \n",
    "\n",
    "import matplotlib.pyplot as plt\n",
    "%matplotlib inline\n",
    "\n",
    "# Create count of the number of epochs\n",
    "epoch_count = range(1, len(history.history['loss']) + 1)\n",
    "\n",
    "plt.plot(epoch_count, history.history['loss'], 'r--')\n",
    "plt.plot(epoch_count, history.history['val_loss'], 'b-')\n",
    "plt.legend(['Training Loss', 'Validation Loss'])\n",
    "plt.xlabel('Epoch')\n",
    "plt.ylabel('Loss')\n",
    "plt.title('Loss per Epoch')\n",
    "plt.show()"
   ]
  },
  {
   "cell_type": "code",
   "execution_count": 19,
   "metadata": {},
   "outputs": [
    {
     "name": "stdout",
     "output_type": "stream",
     "text": [
      "[2 2 3 ... 1 1 2]\n"
     ]
    }
   ],
   "source": [
    "# Finally, we make the predictions with trained model.\n",
    "y_pred=model.predict_classes(X_test)\n",
    "print (y_pred)"
   ]
  }
 ],
 "metadata": {
  "kernelspec": {
   "display_name": "Python 3",
   "language": "python",
   "name": "python3"
  },
  "language_info": {
   "codemirror_mode": {
    "name": "ipython",
    "version": 3
   },
   "file_extension": ".py",
   "mimetype": "text/x-python",
   "name": "python",
   "nbconvert_exporter": "python",
   "pygments_lexer": "ipython3",
   "version": "3.7.1"
  }
 },
 "nbformat": 4,
 "nbformat_minor": 2
}
